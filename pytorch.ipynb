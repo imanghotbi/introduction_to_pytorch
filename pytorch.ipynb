{
  "cells": [
    {
      "cell_type": "markdown",
      "metadata": {
        "id": "XEd7PhX8-RmY"
      },
      "source": [
        "# first section\n",
        "### indroduction to tensors\n",
        "\n",
        "#### creating tensors"
      ]
    },
    {
      "cell_type": "code",
      "execution_count": null,
      "metadata": {
        "id": "PoFHHtiO9xib"
      },
      "outputs": [],
      "source": [
        "import torch\n",
        "import pandas as pd\n",
        "import numpy as np\n",
        "import matplotlib.pyplot as plt "
      ]
    },
    {
      "cell_type": "code",
      "execution_count": null,
      "metadata": {
        "colab": {
          "base_uri": "https://localhost:8080/"
        },
        "id": "Tna_UO90-Jrl",
        "outputId": "474b36f4-10a3-438e-81bf-e1d76bf59a8e"
      },
      "outputs": [
        {
          "name": "stdout",
          "output_type": "stream",
          "text": [
            "1.13.1+cu116\n"
          ]
        }
      ],
      "source": [
        "print(torch.__version__)"
      ]
    },
    {
      "cell_type": "code",
      "execution_count": null,
      "metadata": {
        "colab": {
          "base_uri": "https://localhost:8080/"
        },
        "id": "q5bm59P1-f08",
        "outputId": "d01a09e7-e1b4-4b87-b124-ed50debd2405"
      },
      "outputs": [
        {
          "data": {
            "text/plain": [
              "tensor(7)"
            ]
          },
          "execution_count": 5,
          "metadata": {},
          "output_type": "execute_result"
        }
      ],
      "source": [
        "#scalar\n",
        "scaler = torch.tensor(7)\n",
        "scaler"
      ]
    },
    {
      "cell_type": "code",
      "execution_count": null,
      "metadata": {
        "colab": {
          "base_uri": "https://localhost:8080/"
        },
        "id": "Zia_dEba-0wK",
        "outputId": "8ed28171-9999-4ece-ddbf-e6c1d0d447a8"
      },
      "outputs": [
        {
          "data": {
            "text/plain": [
              "0"
            ]
          },
          "execution_count": 6,
          "metadata": {},
          "output_type": "execute_result"
        }
      ],
      "source": [
        "scaler.ndim"
      ]
    },
    {
      "cell_type": "code",
      "execution_count": null,
      "metadata": {
        "colab": {
          "base_uri": "https://localhost:8080/"
        },
        "id": "rnJcNGqe-mbP",
        "outputId": "700f9727-a626-476f-b027-8e3fd7134d9b"
      },
      "outputs": [
        {
          "data": {
            "text/plain": [
              "7"
            ]
          },
          "execution_count": 7,
          "metadata": {},
          "output_type": "execute_result"
        }
      ],
      "source": [
        "scaler.item()"
      ]
    },
    {
      "cell_type": "code",
      "execution_count": null,
      "metadata": {
        "id": "dc9c3pUU_6It"
      },
      "outputs": [],
      "source": [
        "#vector\n",
        "vector = torch.tensor([1,2,4])"
      ]
    },
    {
      "cell_type": "code",
      "execution_count": null,
      "metadata": {
        "colab": {
          "base_uri": "https://localhost:8080/"
        },
        "id": "-h4MxbVi_9f8",
        "outputId": "d060516d-32b5-41be-c2c7-b1ed6793eb93"
      },
      "outputs": [
        {
          "data": {
            "text/plain": [
              "1"
            ]
          },
          "execution_count": 9,
          "metadata": {},
          "output_type": "execute_result"
        }
      ],
      "source": [
        "vector.ndim"
      ]
    },
    {
      "cell_type": "code",
      "execution_count": null,
      "metadata": {
        "colab": {
          "base_uri": "https://localhost:8080/"
        },
        "id": "xSbIMHskA8C8",
        "outputId": "99307af4-f700-46ca-8d27-8faf22e80b55"
      },
      "outputs": [
        {
          "data": {
            "text/plain": [
              "torch.Size([3])"
            ]
          },
          "execution_count": 10,
          "metadata": {},
          "output_type": "execute_result"
        }
      ],
      "source": [
        "vector.shape"
      ]
    },
    {
      "cell_type": "code",
      "execution_count": null,
      "metadata": {
        "colab": {
          "base_uri": "https://localhost:8080/"
        },
        "id": "uVuu-IzUBXB9",
        "outputId": "13bc3dcc-c3b0-42c7-ea78-f9b99c962d2c"
      },
      "outputs": [
        {
          "data": {
            "text/plain": [
              "tensor([[1, 3],\n",
              "        [2, 1]])"
            ]
          },
          "execution_count": 11,
          "metadata": {},
          "output_type": "execute_result"
        }
      ],
      "source": [
        "#matrix \n",
        "mat = torch.tensor([[1,3],\n",
        "                    [2,1]])\n",
        "mat"
      ]
    },
    {
      "cell_type": "code",
      "execution_count": null,
      "metadata": {
        "colab": {
          "base_uri": "https://localhost:8080/"
        },
        "id": "lFtRdvYjBlg3",
        "outputId": "20bc8169-03c9-494d-f76f-45f809d058bd"
      },
      "outputs": [
        {
          "data": {
            "text/plain": [
              "2"
            ]
          },
          "execution_count": 12,
          "metadata": {},
          "output_type": "execute_result"
        }
      ],
      "source": [
        "mat.ndim"
      ]
    },
    {
      "cell_type": "code",
      "execution_count": null,
      "metadata": {
        "colab": {
          "base_uri": "https://localhost:8080/"
        },
        "id": "gwMJQGNmBnWv",
        "outputId": "7d655a64-ddab-4c18-9afc-0737375b9e12"
      },
      "outputs": [
        {
          "data": {
            "text/plain": [
              "torch.Size([2, 2])"
            ]
          },
          "execution_count": 13,
          "metadata": {},
          "output_type": "execute_result"
        }
      ],
      "source": [
        "mat.shape"
      ]
    },
    {
      "cell_type": "code",
      "execution_count": null,
      "metadata": {
        "colab": {
          "base_uri": "https://localhost:8080/"
        },
        "id": "3NCkUP_uBo8X",
        "outputId": "c1dc8945-8e7a-4fea-b1c4-fe42419f78fc"
      },
      "outputs": [
        {
          "data": {
            "text/plain": [
              "tensor([1, 2])"
            ]
          },
          "execution_count": 14,
          "metadata": {},
          "output_type": "execute_result"
        }
      ],
      "source": [
        "mat[:,0]"
      ]
    },
    {
      "cell_type": "code",
      "execution_count": null,
      "metadata": {
        "colab": {
          "base_uri": "https://localhost:8080/"
        },
        "id": "AXLBStggB8Nn",
        "outputId": "5bb3a815-f3f6-496a-b8b3-596b0c8ef322"
      },
      "outputs": [
        {
          "data": {
            "text/plain": [
              "tensor([[[1, 2, 3],\n",
              "         [4, 2, 4],\n",
              "         [8, 4, 2]],\n",
              "\n",
              "        [[1, 2, 3],\n",
              "         [4, 2, 4],\n",
              "         [8, 4, 2]]])"
            ]
          },
          "execution_count": 15,
          "metadata": {},
          "output_type": "execute_result"
        }
      ],
      "source": [
        "# Tensor \n",
        "Tensor = torch.tensor([[[1,2,3],\n",
        "                        [4,2,4],\n",
        "                        [8,4,2]],\n",
        "                       [[1,2,3],\n",
        "                        [4,2,4],\n",
        "                        [8,4,2]]\n",
        "                        ])\n",
        "Tensor"
      ]
    },
    {
      "cell_type": "code",
      "execution_count": null,
      "metadata": {
        "colab": {
          "base_uri": "https://localhost:8080/"
        },
        "id": "5lelHDKACHmg",
        "outputId": "8018d1a1-95c5-4b4f-f9d4-8dc9817bdb6c"
      },
      "outputs": [
        {
          "data": {
            "text/plain": [
              "3"
            ]
          },
          "execution_count": 16,
          "metadata": {},
          "output_type": "execute_result"
        }
      ],
      "source": [
        "Tensor.ndim"
      ]
    },
    {
      "cell_type": "code",
      "execution_count": null,
      "metadata": {
        "colab": {
          "base_uri": "https://localhost:8080/"
        },
        "id": "eNa31tCXCmKF",
        "outputId": "9424e3b5-34a1-430a-ae35-aa813690e490"
      },
      "outputs": [
        {
          "data": {
            "text/plain": [
              "torch.Size([2, 3, 3])"
            ]
          },
          "execution_count": 17,
          "metadata": {},
          "output_type": "execute_result"
        }
      ],
      "source": [
        "Tensor.shape\n",
        "\n"
      ]
    },
    {
      "cell_type": "code",
      "execution_count": null,
      "metadata": {
        "colab": {
          "base_uri": "https://localhost:8080/"
        },
        "id": "DJJGNKZXCnbQ",
        "outputId": "1133b5f6-4ab0-406d-b7e3-43deba50e88c"
      },
      "outputs": [
        {
          "data": {
            "text/plain": [
              "1"
            ]
          },
          "execution_count": 18,
          "metadata": {},
          "output_type": "execute_result"
        }
      ],
      "source": [
        "Tensor[0,0,0].item()"
      ]
    },
    {
      "cell_type": "markdown",
      "metadata": {
        "id": "L18kLDTlmJRx"
      },
      "source": [
        "### Random tensor\n",
        "why random tensors?\n",
        "\n",
        "Random tensors are important because the way many nueral network learn is that start with tensors full of random numbers and then adjust those random numbers to better represent the data\n",
        "\n",
        "`start with random numbers -> look at data -> update random numbers -> look at data -> update random numbers`"
      ]
    },
    {
      "cell_type": "code",
      "execution_count": null,
      "metadata": {
        "id": "ZN6JD8U4mRMc"
      },
      "outputs": [],
      "source": [
        "# create a random tensor of size(3,4)\n",
        "random_tensor = torch.rand(3,5)\n"
      ]
    },
    {
      "cell_type": "code",
      "execution_count": null,
      "metadata": {
        "colab": {
          "base_uri": "https://localhost:8080/"
        },
        "id": "FZYoehJqnRM5",
        "outputId": "82752528-ce0f-47fe-e396-21d6321d8370"
      },
      "outputs": [
        {
          "data": {
            "text/plain": [
              "2"
            ]
          },
          "execution_count": 20,
          "metadata": {},
          "output_type": "execute_result"
        }
      ],
      "source": [
        "random_tensor.ndim"
      ]
    },
    {
      "cell_type": "code",
      "execution_count": null,
      "metadata": {
        "colab": {
          "base_uri": "https://localhost:8080/"
        },
        "id": "Ga865SzpvU7_",
        "outputId": "9e642be1-b957-4b7e-b933-5b784f4f7067"
      },
      "outputs": [
        {
          "data": {
            "text/plain": [
              "tensor([[[0.3766, 0.1435, 0.0506, 0.7742, 0.5072],\n",
              "         [0.6774, 0.0930, 0.4023, 0.3933, 0.3106],\n",
              "         [0.8980, 0.3456, 0.9511, 0.1935, 0.5045],\n",
              "         [0.5253, 0.2672, 0.2812, 0.5670, 0.1080],\n",
              "         [0.1420, 0.6864, 0.8629, 0.9617, 0.6533]],\n",
              "\n",
              "        [[0.2620, 0.5998, 0.4155, 0.8747, 0.2466],\n",
              "         [0.9234, 0.7519, 0.8158, 0.0824, 0.3064],\n",
              "         [0.1635, 0.5764, 0.7922, 0.5704, 0.8791],\n",
              "         [0.2131, 0.1046, 0.9862, 0.5767, 0.0302],\n",
              "         [0.8735, 0.7461, 0.1581, 0.5444, 0.8169]]])"
            ]
          },
          "execution_count": 21,
          "metadata": {},
          "output_type": "execute_result"
        }
      ],
      "source": [
        "random_tensor1=torch.rand(2,5,5)\n",
        "random_tensor1"
      ]
    },
    {
      "cell_type": "code",
      "execution_count": null,
      "metadata": {
        "colab": {
          "base_uri": "https://localhost:8080/"
        },
        "id": "MYi3Iwhavaph",
        "outputId": "e37d70cd-53e7-4d31-8505-86bca40dc20a"
      },
      "outputs": [
        {
          "data": {
            "text/plain": [
              "2"
            ]
          },
          "execution_count": 22,
          "metadata": {},
          "output_type": "execute_result"
        }
      ],
      "source": [
        "random_tensor.ndim"
      ]
    },
    {
      "cell_type": "code",
      "execution_count": null,
      "metadata": {
        "id": "v-qoY_pWvo-m"
      },
      "outputs": [],
      "source": [
        "# Create a random tesor with similar shape to an image\n",
        "random_image_size_tensor=torch.rand(size=(244,244,3)) #Row Coloum inner vector coloum / height width (R,G,B ) each pixel have three color\n",
        "random_image_size_tensor=torch.rand(size=(3,244,244)) #three picture each one is red/blue/green\n",
        "\n"
      ]
    },
    {
      "cell_type": "markdown",
      "metadata": {
        "id": "0kX0vBOtxfYU"
      },
      "source": [
        "## zero and ones"
      ]
    },
    {
      "cell_type": "code",
      "execution_count": null,
      "metadata": {
        "colab": {
          "base_uri": "https://localhost:8080/"
        },
        "id": "R9bxGY6d0DjZ",
        "outputId": "ecd18903-b497-428a-8d94-0809d8cba306"
      },
      "outputs": [
        {
          "data": {
            "text/plain": [
              "tensor([[0., 0., 0., 0.],\n",
              "        [0., 0., 0., 0.],\n",
              "        [0., 0., 0., 0.]])"
            ]
          },
          "execution_count": 24,
          "metadata": {},
          "output_type": "execute_result"
        }
      ],
      "source": [
        "# create a tensor of all zeros\n",
        "zeros= torch.zeros(3,4)\n",
        "zeros"
      ]
    },
    {
      "cell_type": "code",
      "execution_count": null,
      "metadata": {
        "colab": {
          "base_uri": "https://localhost:8080/"
        },
        "id": "js2buH5O0GVi",
        "outputId": "96e35181-9141-40c3-f314-28e21b41d72e"
      },
      "outputs": [
        {
          "data": {
            "text/plain": [
              "torch.float32"
            ]
          },
          "execution_count": 25,
          "metadata": {},
          "output_type": "execute_result"
        }
      ],
      "source": [
        "# create a tensor of all ones\n",
        "ones = torch.ones(3,4)\n",
        "ones.dtype"
      ]
    },
    {
      "cell_type": "markdown",
      "metadata": {
        "id": "1J47ARKu0kvK"
      },
      "source": [
        "### creating a range of tensors and tesors-like"
      ]
    },
    {
      "cell_type": "code",
      "execution_count": null,
      "metadata": {
        "colab": {
          "base_uri": "https://localhost:8080/"
        },
        "id": "3EtVSJ006VrO",
        "outputId": "abf01ac6-39fb-4d66-ac1d-affa5cc86e9a"
      },
      "outputs": [
        {
          "data": {
            "text/plain": [
              "tensor([1, 3, 5, 7, 9])"
            ]
          },
          "execution_count": 26,
          "metadata": {},
          "output_type": "execute_result"
        }
      ],
      "source": [
        "#use torch.arange()\n",
        "one_to_ten= torch.arange(1,10,2)\n",
        "one_to_ten"
      ]
    },
    {
      "cell_type": "code",
      "execution_count": null,
      "metadata": {
        "colab": {
          "base_uri": "https://localhost:8080/"
        },
        "id": "Fi6t3yHM6ZC2",
        "outputId": "25be56c8-7cc8-431c-8a7d-78e799d0da09"
      },
      "outputs": [
        {
          "data": {
            "text/plain": [
              "tensor([0, 0, 0, 0, 0])"
            ]
          },
          "execution_count": 27,
          "metadata": {},
          "output_type": "execute_result"
        }
      ],
      "source": [
        "#creating tensor like\n",
        "ten_zeros=torch.zeros_like(one_to_ten)\n",
        "ten_zeros"
      ]
    },
    {
      "cell_type": "markdown",
      "metadata": {
        "id": "zpRIbEnF7QJs"
      },
      "source": [
        "## Tensor datatypes\n",
        "**note** : tensor datatypes is one of the 3 big errors you'll rut into with pytorch & deep learning: \n",
        "<br/>\n",
        "1-tensor not right datatypes\n",
        "<br/>\n",
        "2-tensor not right shape\n",
        "<br/>\n",
        "3-tensors not on the right device"
      ]
    },
    {
      "cell_type": "code",
      "execution_count": null,
      "metadata": {
        "colab": {
          "base_uri": "https://localhost:8080/"
        },
        "id": "Ay1mWqSFe8Re",
        "outputId": "6c6f1637-e6a8-48a6-d469-213bac187054"
      },
      "outputs": [
        {
          "data": {
            "text/plain": [
              "tensor([3., 6., 9.], dtype=torch.float16)"
            ]
          },
          "execution_count": 28,
          "metadata": {},
          "output_type": "execute_result"
        }
      ],
      "source": [
        "# Float 32/16 tensor\n",
        "float_16_tensor= torch.tensor([3.0,6.0,9.0],\n",
        "                              dtype=torch.float16,  #what is dtype of tensor\n",
        "                              device='cpu', #cpu or cuda\n",
        "                              requires_grad=False\n",
        "                              )\n",
        "float_16_tensor"
      ]
    },
    {
      "cell_type": "code",
      "execution_count": null,
      "metadata": {
        "id": "hxGEWvHHhdvL"
      },
      "outputs": [],
      "source": [
        "float_32_tensor=float_16_tensor.type(torch.float16)"
      ]
    },
    {
      "cell_type": "markdown",
      "metadata": {
        "id": "D0oXl8J3MA39"
      },
      "source": [
        "## finding the min,max,mean,sum,etc(tensor agg function)"
      ]
    },
    {
      "cell_type": "code",
      "execution_count": null,
      "metadata": {
        "colab": {
          "base_uri": "https://localhost:8080/"
        },
        "id": "F2PJCzxW_VYy",
        "outputId": "be960520-91b0-41d4-db32-ac0265a379e3"
      },
      "outputs": [
        {
          "data": {
            "text/plain": [
              "tensor([ 0., 10., 20., 30., 40., 50., 60., 70., 80., 90.], dtype=torch.float16)"
            ]
          },
          "execution_count": 30,
          "metadata": {},
          "output_type": "execute_result"
        }
      ],
      "source": [
        "x=torch.arange(0,100,10)\n",
        "x.type(torch.float16)"
      ]
    },
    {
      "cell_type": "code",
      "execution_count": null,
      "metadata": {
        "colab": {
          "base_uri": "https://localhost:8080/"
        },
        "id": "6U40k6ZM_Z6S",
        "outputId": "af66c110-7864-4cdf-c1a5-5190853360c6"
      },
      "outputs": [
        {
          "data": {
            "text/plain": [
              "(tensor(90), tensor(90))"
            ]
          },
          "execution_count": 31,
          "metadata": {},
          "output_type": "execute_result"
        }
      ],
      "source": [
        "torch.max(x) , x.max()"
      ]
    },
    {
      "cell_type": "code",
      "execution_count": null,
      "metadata": {
        "colab": {
          "base_uri": "https://localhost:8080/"
        },
        "id": "8T3y4ZhE_gWo",
        "outputId": "aaba4d6b-160b-4d6f-8d42-1fcdb987e7f8"
      },
      "outputs": [
        {
          "data": {
            "text/plain": [
              "tensor(45., dtype=torch.float16)"
            ]
          },
          "execution_count": 32,
          "metadata": {},
          "output_type": "execute_result"
        }
      ],
      "source": [
        "torch.mean(x.type(torch.float16)) #torch.mean fuction must float or complex\n",
        "x.type(torch.float16).mean()"
      ]
    },
    {
      "cell_type": "code",
      "execution_count": null,
      "metadata": {
        "colab": {
          "base_uri": "https://localhost:8080/"
        },
        "id": "TZsmdKnL_qMW",
        "outputId": "093bde4f-d91e-482b-ee10-5a1fd02385a0"
      },
      "outputs": [
        {
          "data": {
            "text/plain": [
              "(tensor(450), tensor(450))"
            ]
          },
          "execution_count": 33,
          "metadata": {},
          "output_type": "execute_result"
        }
      ],
      "source": [
        " x.sum() , torch.sum(x)"
      ]
    },
    {
      "cell_type": "code",
      "execution_count": null,
      "metadata": {
        "colab": {
          "base_uri": "https://localhost:8080/"
        },
        "id": "1FGunB1oAouw",
        "outputId": "1bcbdca3-54b1-4b8a-e4b3-1768f5103408"
      },
      "outputs": [
        {
          "data": {
            "text/plain": [
              "(tensor(0), tensor(0))"
            ]
          },
          "execution_count": 34,
          "metadata": {},
          "output_type": "execute_result"
        }
      ],
      "source": [
        "x.min() , torch.min(x)"
      ]
    },
    {
      "cell_type": "markdown",
      "metadata": {
        "id": "nHgPQCS1A0Wg"
      },
      "source": [
        "## finding the positional min and max"
      ]
    },
    {
      "cell_type": "code",
      "execution_count": null,
      "metadata": {
        "colab": {
          "base_uri": "https://localhost:8080/"
        },
        "id": "IEkgX5a9BDQd",
        "outputId": "5ae17aac-fbcd-4757-c2ad-aa5a67d5aa06"
      },
      "outputs": [
        {
          "data": {
            "text/plain": [
              "tensor(0)"
            ]
          },
          "execution_count": 35,
          "metadata": {},
          "output_type": "execute_result"
        }
      ],
      "source": [
        "x.argmin() # find the position in tensor that has the min value with argmin() -> returns index pisition of target tesnsor that min value occurs"
      ]
    },
    {
      "cell_type": "code",
      "execution_count": null,
      "metadata": {
        "colab": {
          "base_uri": "https://localhost:8080/"
        },
        "id": "V7Fkg96uBE3R",
        "outputId": "ec7c03ba-ab42-4109-9aa7-446e486f78fd"
      },
      "outputs": [
        {
          "data": {
            "text/plain": [
              "9"
            ]
          },
          "execution_count": 36,
          "metadata": {},
          "output_type": "execute_result"
        }
      ],
      "source": [
        "x.argmax().item()"
      ]
    },
    {
      "cell_type": "markdown",
      "metadata": {
        "id": "-Vj-4uaSCdq1"
      },
      "source": [
        "## reshaping, stacking, squeezing and unsqueezing tensors\n",
        "* reshaping - reshape an input tensor to defined shape \n",
        "* view - return a view of an input tesor of certain shape but keep the same memoryviewas the original tensor\n",
        "* stacking - combine multiple tensors on top of each other(vstack) or side by side(hstack)\n",
        "* squeeze - remove all `1` dimensions from a tensor\n",
        "* unsqueez - add a `1` dimension to a target tensor\n",
        "* permute - return a view of the input with dimensions permuted (swapped) in certain way\n"
      ]
    },
    {
      "cell_type": "code",
      "execution_count": null,
      "metadata": {
        "colab": {
          "base_uri": "https://localhost:8080/"
        },
        "id": "r57YsIweDs3D",
        "outputId": "70e9ba76-b208-413b-8a50-a10b89500748"
      },
      "outputs": [
        {
          "data": {
            "text/plain": [
              "(tensor([1., 2., 3., 4., 5., 6., 7., 8., 9.]), torch.Size([9]))"
            ]
          },
          "execution_count": 37,
          "metadata": {},
          "output_type": "execute_result"
        }
      ],
      "source": [
        "X=torch.arange(1.,10.)\n",
        "X, X.shape"
      ]
    },
    {
      "cell_type": "code",
      "execution_count": null,
      "metadata": {
        "colab": {
          "base_uri": "https://localhost:8080/"
        },
        "id": "2iP1dpmaD5-e",
        "outputId": "22c29b4a-438b-4151-8bf8-b96c6173456a"
      },
      "outputs": [
        {
          "data": {
            "text/plain": [
              "tensor([[1., 2., 3.],\n",
              "        [4., 5., 6.],\n",
              "        [7., 8., 9.]])"
            ]
          },
          "execution_count": 38,
          "metadata": {},
          "output_type": "execute_result"
        }
      ],
      "source": [
        "X_reshaped= X.reshape(3,3)\n",
        "X_reshaped"
      ]
    },
    {
      "cell_type": "code",
      "execution_count": null,
      "metadata": {
        "colab": {
          "base_uri": "https://localhost:8080/"
        },
        "id": "AVFkKJM1EHVU",
        "outputId": "9f007fc0-cb91-4363-a426-b6a0a87eeb7a"
      },
      "outputs": [
        {
          "data": {
            "text/plain": [
              "(tensor([[5., 2., 3., 4., 5., 6., 7., 8., 9.]]),\n",
              " tensor([5., 2., 3., 4., 5., 6., 7., 8., 9.]))"
            ]
          },
          "execution_count": 39,
          "metadata": {},
          "output_type": "execute_result"
        }
      ],
      "source": [
        "z=X.view(1,9)\n",
        " #changing z change x (because a view of a tensor shares the same memory as the orginal input)\n",
        "z[:,0]=5\n",
        "z,X"
      ]
    },
    {
      "cell_type": "code",
      "execution_count": null,
      "metadata": {
        "colab": {
          "base_uri": "https://localhost:8080/"
        },
        "id": "SwmRh0EoE7EZ",
        "outputId": "b8a2eafa-dcf9-4ebc-fca8-33576aefebe9"
      },
      "outputs": [
        {
          "data": {
            "text/plain": [
              "(tensor([[5., 2., 3., 4., 5., 6., 7., 8., 9.],\n",
              "         [5., 2., 3., 4., 5., 6., 7., 8., 9.]]), tensor([[5., 5.],\n",
              "         [2., 2.],\n",
              "         [3., 3.],\n",
              "         [4., 4.],\n",
              "         [5., 5.],\n",
              "         [6., 6.],\n",
              "         [7., 7.],\n",
              "         [8., 8.],\n",
              "         [9., 9.]]))"
            ]
          },
          "execution_count": 40,
          "metadata": {},
          "output_type": "execute_result"
        }
      ],
      "source": [
        "# stack tensor on top of each other\n",
        "x_stacked=torch.stack([X,X],dim=0)\n",
        "Y_stacked=torch.stack([X,X],dim=1)\n",
        "x_stacked , Y_stacked"
      ]
    },
    {
      "cell_type": "code",
      "execution_count": null,
      "metadata": {
        "colab": {
          "base_uri": "https://localhost:8080/"
        },
        "id": "rEwIWnyJF5OH",
        "outputId": "8a2116f8-6b96-4c25-c7ec-89484bfe7f4a"
      },
      "outputs": [
        {
          "data": {
            "text/plain": [
              "tensor([[5., 2., 3., 4., 5., 6., 7., 8., 9.],\n",
              "        [5., 2., 3., 4., 5., 6., 7., 8., 9.]])"
            ]
          },
          "execution_count": 41,
          "metadata": {},
          "output_type": "execute_result"
        }
      ],
      "source": [
        "x_stacked"
      ]
    },
    {
      "cell_type": "code",
      "execution_count": null,
      "metadata": {
        "colab": {
          "base_uri": "https://localhost:8080/"
        },
        "id": "vMkshvXWF_aX",
        "outputId": "e5e9008a-67d9-4479-d745-e61ff48fa652"
      },
      "outputs": [
        {
          "data": {
            "text/plain": [
              "(tensor([5., 2., 3., 4., 5., 6., 7., 8., 9.]), torch.Size([9]))"
            ]
          },
          "execution_count": 42,
          "metadata": {},
          "output_type": "execute_result"
        }
      ],
      "source": [
        "# torch.squeeze() - removes all single dimension from a target tensor\n",
        "z.squeeze(),z.squeeze().shape"
      ]
    },
    {
      "cell_type": "code",
      "execution_count": null,
      "metadata": {
        "colab": {
          "base_uri": "https://localhost:8080/"
        },
        "id": "mFCOa5qEcDVD",
        "outputId": "838667c0-f123-40ab-d69c-7a93414680d3"
      },
      "outputs": [
        {
          "name": "stdout",
          "output_type": "stream",
          "text": [
            "torch.Size([2, 3, 5])\n",
            "torch.Size([5, 2, 3])\n"
          ]
        },
        {
          "data": {
            "text/plain": [
              "(tensor([[[-0.6446, -0.3712,  1.0790,  1.0239, -0.0533],\n",
              "          [-0.5558, -1.1411, -2.4481, -1.0888, -0.2844],\n",
              "          [ 0.3673, -0.6657, -1.6270, -1.0976,  0.3972]],\n",
              " \n",
              "         [[-0.9669, -0.4728, -0.3106,  0.6365,  0.3808],\n",
              "          [ 0.4424, -2.0799, -1.4906, -0.5747,  1.3062],\n",
              "          [-0.8582,  1.0762,  0.7891,  1.9240,  1.3065]]]),\n",
              " tensor([[[-0.6446, -0.5558,  0.3673],\n",
              "          [-0.9669,  0.4424, -0.8582]],\n",
              " \n",
              "         [[-0.3712, -1.1411, -0.6657],\n",
              "          [-0.4728, -2.0799,  1.0762]],\n",
              " \n",
              "         [[ 1.0790, -2.4481, -1.6270],\n",
              "          [-0.3106, -1.4906,  0.7891]],\n",
              " \n",
              "         [[ 1.0239, -1.0888, -1.0976],\n",
              "          [ 0.6365, -0.5747,  1.9240]],\n",
              " \n",
              "         [[-0.0533, -0.2844,  0.3972],\n",
              "          [ 0.3808,  1.3062,  1.3065]]]))"
            ]
          },
          "execution_count": 43,
          "metadata": {},
          "output_type": "execute_result"
        }
      ],
      "source": [
        "# torch.unsqueezed() - adds a single dimension to a target tensor at a specific dim\n",
        "U = torch.randn(2, 3, 5)\n",
        "print(U.size())\n",
        "print(torch.permute(U, (2, 0, 1)).size()) #two way to repersent\n",
        "w=U.permute(2, 0, 1)\n",
        "U,w"
      ]
    },
    {
      "cell_type": "markdown",
      "metadata": {
        "id": "2YNPM2-1gqLs"
      },
      "source": [
        "## indexing in pytorch like indexing in Numpy"
      ]
    },
    {
      "cell_type": "markdown",
      "metadata": {
        "id": "JflxIRFmytU0"
      },
      "source": [
        "## pytorch Tensors & numpy\n",
        "Numpy is a popular scientific python numerical computing library.\n",
        "\n",
        "and becasue of this, Pytorch has functinality to interact with it\n",
        "* data in numpy, want in Pytorch Tensor -> `torch.from_numpy(ndarray)`\n",
        "* PyTorch Tensor -> Numpy -> `torch.Tensor.numpy()`\n",
        "\n",
        "\n",
        "warning : becarefull about dataType between Numpy and Pytorch Tensor"
      ]
    },
    {
      "cell_type": "markdown",
      "metadata": {
        "id": "LcdkyTwmztoT"
      },
      "source": [
        "## Reproducibility (trying to take random out of random)\n",
        "\n",
        "in short how a Neural network learns:\n",
        "`start with random numbers -> tenosr operation -> update random numbers to try and make them better representations of the data-> again -> again ...`\n",
        "\n",
        "to reduce the randomness in neural networks and pytorch comes the concepts of **random seed**\n",
        "\n",
        "essentialy what the random seed does is 'flavour' the randomness"
      ]
    },
    {
      "cell_type": "code",
      "execution_count": null,
      "metadata": {
        "id": "ETWE_Hl60L50"
      },
      "outputs": [],
      "source": [
        "rand_a=torch.rand(3,4)\n",
        "rand_b=torch.rand(3,4)"
      ]
    },
    {
      "cell_type": "code",
      "execution_count": null,
      "metadata": {
        "colab": {
          "base_uri": "https://localhost:8080/"
        },
        "id": "5iqFNMaG0Q_j",
        "outputId": "17997f2c-8c9d-41ee-9a58-50a1ea188db6"
      },
      "outputs": [
        {
          "name": "stdout",
          "output_type": "stream",
          "text": [
            "tensor([[0.4485, 0.9867, 0.1398, 0.1375],\n",
            "        [0.3390, 0.8214, 0.9567, 0.4669],\n",
            "        [0.0599, 0.7476, 0.8836, 0.5257]])\n",
            "tensor([[0.6032, 0.5232, 0.0489, 0.5598],\n",
            "        [0.1701, 0.9775, 0.0980, 0.4520],\n",
            "        [0.6813, 0.7509, 0.8604, 0.7526]])\n"
          ]
        }
      ],
      "source": [
        "print(rand_a)\n",
        "print(rand_b)"
      ]
    },
    {
      "cell_type": "code",
      "execution_count": null,
      "metadata": {
        "colab": {
          "base_uri": "https://localhost:8080/"
        },
        "id": "w9AmbjUf1PdL",
        "outputId": "9a057cdf-4314-4854-da77-df954586b360"
      },
      "outputs": [
        {
          "name": "stdout",
          "output_type": "stream",
          "text": [
            "tensor([[0.1980, 0.4503, 0.0909, 0.8872],\n",
            "        [0.2894, 0.0186, 0.9095, 0.3406],\n",
            "        [0.4309, 0.7324, 0.4776, 0.0716]])\n",
            "tensor([[0.1980, 0.4503, 0.0909, 0.8872],\n",
            "        [0.2894, 0.0186, 0.9095, 0.3406],\n",
            "        [0.4309, 0.7324, 0.4776, 0.0716]])\n",
            "tensor([[True, True, True, True],\n",
            "        [True, True, True, True],\n",
            "        [True, True, True, True]])\n"
          ]
        }
      ],
      "source": [
        "# let's make some random but reproducible tensors\n",
        "RANDOM_SEED=101\n",
        "torch.manual_seed(RANDOM_SEED)\n",
        "rand_c=torch.rand(3,4)\n",
        "#for each random you shoul set random set\n",
        "RANDOM_SEED=101\n",
        "torch.manual_seed(RANDOM_SEED)\n",
        "rand_d=torch.rand(3,4)\n",
        "\n",
        "print(rand_c)\n",
        "print(rand_d)\n",
        "print(rand_c == rand_d)"
      ]
    },
    {
      "cell_type": "markdown",
      "metadata": {
        "id": "vG6Gv9uR20Js"
      },
      "source": [
        "## Running tensors and pytorch object on the GPUs\n",
        "\n",
        "GPU=faster computation on numbers, thanks to CUDA + NVIDIA + pyTorch behind the \n",
        "scense to makes everthining hunky dory(good)"
      ]
    },
    {
      "cell_type": "markdown",
      "metadata": {
        "id": "OgtrSuKV3ct1"
      },
      "source": [
        "### 1.getting a gpu\n",
        "1. Easiat - google colab for a free \n",
        "2. use your own GPU - takes a little bit of setup\n",
        "3. use cloud computing - GCP,AWS,Azure ..."
      ]
    },
    {
      "cell_type": "code",
      "execution_count": null,
      "metadata": {
        "colab": {
          "base_uri": "https://localhost:8080/"
        },
        "id": "66O2lBJl5BPn",
        "outputId": "26ff5cde-9260-43ac-f32b-4dd278330072"
      },
      "outputs": [
        {
          "name": "stdout",
          "output_type": "stream",
          "text": [
            "Thu Jan 26 11:50:50 2023       \n",
            "+-----------------------------------------------------------------------------+\n",
            "| NVIDIA-SMI 510.47.03    Driver Version: 510.47.03    CUDA Version: 11.6     |\n",
            "|-------------------------------+----------------------+----------------------+\n",
            "| GPU  Name        Persistence-M| Bus-Id        Disp.A | Volatile Uncorr. ECC |\n",
            "| Fan  Temp  Perf  Pwr:Usage/Cap|         Memory-Usage | GPU-Util  Compute M. |\n",
            "|                               |                      |               MIG M. |\n",
            "|===============================+======================+======================|\n",
            "|   0  Tesla T4            Off  | 00000000:00:04.0 Off |                    0 |\n",
            "| N/A   64C    P0    18W /  70W |      0MiB / 15360MiB |      0%      Default |\n",
            "|                               |                      |                  N/A |\n",
            "+-------------------------------+----------------------+----------------------+\n",
            "                                                                               \n",
            "+-----------------------------------------------------------------------------+\n",
            "| Processes:                                                                  |\n",
            "|  GPU   GI   CI        PID   Type   Process name                  GPU Memory |\n",
            "|        ID   ID                                                   Usage      |\n",
            "|=============================================================================|\n",
            "|  No running processes found                                                 |\n",
            "+-----------------------------------------------------------------------------+\n"
          ]
        }
      ],
      "source": [
        " !nvidia-smi"
      ]
    },
    {
      "cell_type": "markdown",
      "metadata": {
        "id": "YrC0AK2M5152"
      },
      "source": [
        "### 2. check for GPU access with PyTorch"
      ]
    },
    {
      "cell_type": "code",
      "execution_count": null,
      "metadata": {
        "colab": {
          "base_uri": "https://localhost:8080/"
        },
        "id": "HJz9G8eB6Tsn",
        "outputId": "bd29d1b5-dccb-4110-da78-ee93a4126297"
      },
      "outputs": [
        {
          "data": {
            "text/plain": [
              "True"
            ]
          },
          "execution_count": 49,
          "metadata": {},
          "output_type": "execute_result"
        }
      ],
      "source": [
        "# check for gpu access with Pytorch\n",
        "torch.cuda.is_available()"
      ]
    },
    {
      "cell_type": "code",
      "execution_count": null,
      "metadata": {
        "colab": {
          "base_uri": "https://localhost:8080/",
          "height": 35
        },
        "id": "P1wleea96hoO",
        "outputId": "ce7c6957-484a-4e8e-f808-83ace81fee46"
      },
      "outputs": [
        {
          "data": {
            "application/vnd.google.colaboratory.intrinsic+json": {
              "type": "string"
            },
            "text/plain": [
              "'cuda'"
            ]
          },
          "execution_count": 50,
          "metadata": {},
          "output_type": "execute_result"
        }
      ],
      "source": [
        "#Setup device agnostic code\n",
        "device='cuda' if torch.cuda.is_available() else 'cpu'\n",
        "device"
      ]
    },
    {
      "cell_type": "code",
      "execution_count": null,
      "metadata": {
        "colab": {
          "base_uri": "https://localhost:8080/"
        },
        "id": "QaHVURcj7JKP",
        "outputId": "8f25d7a2-b71a-4187-a6b8-bb6c7dd53c81"
      },
      "outputs": [
        {
          "data": {
            "text/plain": [
              "1"
            ]
          },
          "execution_count": 51,
          "metadata": {},
          "output_type": "execute_result"
        }
      ],
      "source": [
        "# Count Number of devices\n",
        "torch.cuda.device_count()"
      ]
    },
    {
      "cell_type": "markdown",
      "metadata": {
        "id": "HC050_Ej7QkN"
      },
      "source": [
        "## 3.putting tensor (and models) on the GPU\n"
      ]
    },
    {
      "cell_type": "code",
      "execution_count": null,
      "metadata": {
        "colab": {
          "base_uri": "https://localhost:8080/"
        },
        "id": "2_Tvgt_C73mF",
        "outputId": "ecadfabf-56dd-4e35-f355-14a53e01c70f"
      },
      "outputs": [
        {
          "name": "stdout",
          "output_type": "stream",
          "text": [
            "tensor([1, 2, 3]) cpu\n"
          ]
        }
      ],
      "source": [
        "# Create a Tensor (Defualt on the Cpu)\n",
        "tensor=torch.tensor([1,2,3])\n",
        "print(tensor,tensor.device)"
      ]
    },
    {
      "cell_type": "code",
      "execution_count": null,
      "metadata": {
        "colab": {
          "base_uri": "https://localhost:8080/"
        },
        "id": "5d_17-tP8HUx",
        "outputId": "8853b4cf-4402-4eab-8edb-31b91301e300"
      },
      "outputs": [
        {
          "data": {
            "text/plain": [
              "tensor([1, 2, 3], device='cuda:0')"
            ]
          },
          "execution_count": 54,
          "metadata": {},
          "output_type": "execute_result"
        }
      ],
      "source": [
        "# move tensor to GPU (if available)\n",
        "tensor_on_gpu=tensor.to(device)\n",
        "tensor_on_gpu"
      ]
    },
    {
      "cell_type": "markdown",
      "metadata": {
        "id": "yRal4RNG8aXj"
      },
      "source": [
        "### 4. moving tensor back to CPU\n",
        "for numpy operation"
      ]
    },
    {
      "cell_type": "code",
      "execution_count": null,
      "metadata": {
        "colab": {
          "base_uri": "https://localhost:8080/",
          "height": 183
        },
        "id": "pzNVNA098tHh",
        "outputId": "b7ee60a1-48a1-49e7-ff23-eab75f8f45d0"
      },
      "outputs": [
        {
          "ename": "TypeError",
          "evalue": "ignored",
          "output_type": "error",
          "traceback": [
            "\u001b[0;31m---------------------------------------------------------------------------\u001b[0m",
            "\u001b[0;31mTypeError\u001b[0m                                 Traceback (most recent call last)",
            "\u001b[0;32m<ipython-input-55-e0c96c7436fd>\u001b[0m in \u001b[0;36m<module>\u001b[0;34m\u001b[0m\n\u001b[0;32m----> 1\u001b[0;31m \u001b[0mtensor_on_gpu\u001b[0m\u001b[0;34m.\u001b[0m\u001b[0mnumpy\u001b[0m\u001b[0;34m(\u001b[0m\u001b[0;34m)\u001b[0m\u001b[0;34m\u001b[0m\u001b[0;34m\u001b[0m\u001b[0m\n\u001b[0m",
            "\u001b[0;31mTypeError\u001b[0m: can't convert cuda:0 device type tensor to numpy. Use Tensor.cpu() to copy the tensor to host memory first."
          ]
        }
      ],
      "source": [
        "tensor_on_gpu.numpy()"
      ]
    },
    {
      "cell_type": "code",
      "execution_count": null,
      "metadata": {
        "id": "MkCfbEtw8xbP"
      },
      "outputs": [],
      "source": [
        "tensor_on_cpu=tensor_on_gpu.cpu().numpy()"
      ]
    },
    {
      "cell_type": "code",
      "execution_count": null,
      "metadata": {
        "colab": {
          "base_uri": "https://localhost:8080/"
        },
        "id": "N8WMtc9A9DWw",
        "outputId": "f4037b2d-f02b-444f-f165-5019c8323e29"
      },
      "outputs": [
        {
          "data": {
            "text/plain": [
              "array([1, 2, 3])"
            ]
          },
          "execution_count": 57,
          "metadata": {},
          "output_type": "execute_result"
        }
      ],
      "source": [
        "tensor_on_cpu"
      ]
    },
    {
      "cell_type": "markdown",
      "metadata": {
        "id": "SO__2EEs9FMa"
      },
      "source": [
        "how can use multiple GPU?"
      ]
    },
    {
      "cell_type": "markdown",
      "metadata": {
        "id": "DM87d24t9NVP"
      },
      "source": [
        "# pytroch workflow\n",
        "\n",
        "let's explore an example PyTorch end-to-end workflow."
      ]
    },
    {
      "cell_type": "code",
      "execution_count": null,
      "metadata": {
        "colab": {
          "base_uri": "https://localhost:8080/",
          "height": 35
        },
        "id": "q_PMlNb7c2UJ",
        "outputId": "b94fce94-bb11-431d-ab9b-5510a2a276de"
      },
      "outputs": [
        {
          "data": {
            "application/vnd.google.colaboratory.intrinsic+json": {
              "type": "string"
            },
            "text/plain": [
              "'1.13.1+cu116'"
            ]
          },
          "execution_count": 30,
          "metadata": {},
          "output_type": "execute_result"
        }
      ],
      "source": [
        "import torch \n",
        "from torch import nn #nn contains all of Pytorch's building blocks for nueral networks \n",
        "import matplotlib.pyplot as plt \n",
        "torch.__version__"
      ]
    },
    {
      "cell_type": "markdown",
      "metadata": {
        "id": "lZJ2i-FMeXJA"
      },
      "source": [
        "## 1.Data(preparing and loading)\n",
        "Data can be almost anything... in machine learning\n",
        "\n",
        "machinge learning is game of two parts:\n",
        "1. Get data into a numerical representation\n",
        "2. Build a model to learn patterns in that numerical representation"
      ]
    },
    {
      "cell_type": "code",
      "execution_count": null,
      "metadata": {
        "colab": {
          "base_uri": "https://localhost:8080/"
        },
        "id": "Be6PZlbTL0oA",
        "outputId": "15d3e644-c850-403c-efba-11e5cc24833c"
      },
      "outputs": [
        {
          "data": {
            "text/plain": [
              "(tensor([[0.0000],\n",
              "         [0.0200],\n",
              "         [0.0400],\n",
              "         [0.0600],\n",
              "         [0.0800],\n",
              "         [0.1000],\n",
              "         [0.1200],\n",
              "         [0.1400],\n",
              "         [0.1600],\n",
              "         [0.1800]]), tensor([[0.3000],\n",
              "         [0.3140],\n",
              "         [0.3280],\n",
              "         [0.3420],\n",
              "         [0.3560],\n",
              "         [0.3700],\n",
              "         [0.3840],\n",
              "         [0.3980],\n",
              "         [0.4120],\n",
              "         [0.4260]]))"
            ]
          },
          "execution_count": 31,
          "metadata": {},
          "output_type": "execute_result"
        }
      ],
      "source": [
        "# Create *known* parameters\n",
        "weight = 0.7\n",
        "bias = 0.3\n",
        "# Create \n",
        "start = 0\n",
        "end = 1\n",
        "step = 0.02\n",
        "X=torch.arange(start,end,step).unsqueeze(dim=1)\n",
        "y= weight * X + bias\n",
        "X[:10] , y[:10]"
      ]
    },
    {
      "cell_type": "markdown",
      "metadata": {
        "id": "qhrfem6GNqvk"
      },
      "source": [
        "### spliting data into test and training sets(one of the most important concept in machine learning in general)"
      ]
    },
    {
      "cell_type": "code",
      "execution_count": null,
      "metadata": {
        "id": "lnQorfltOkcG"
      },
      "outputs": [],
      "source": [
        "#create a train/test split\n",
        "from sklearn.model_selection import train_test_split"
      ]
    },
    {
      "cell_type": "code",
      "execution_count": null,
      "metadata": {
        "id": "lfLKzIDyQHxr"
      },
      "outputs": [],
      "source": [
        "X_train, X_test, y_train, y_test = train_test_split( X, y, test_size=0.2, random_state=42)"
      ]
    },
    {
      "cell_type": "markdown",
      "metadata": {
        "id": "u_kRYFCaQNpN"
      },
      "source": [
        "## 2.build model"
      ]
    },
    {
      "cell_type": "code",
      "execution_count": null,
      "metadata": {
        "id": "R27Lc29bTjKv"
      },
      "outputs": [],
      "source": [
        "# Create linear regressin model class\n",
        "class LinearRegressionModel(nn.Module): #-> nn.module almost everything in pyTorch inherit Module\n",
        "  def __init__(self):\n",
        "    super().__init__()\n",
        "    self.weight= nn.Parameter(torch.randn(1,requires_grad=True,dtype=torch.float32))\n",
        "    self.bias= nn.Parameter(torch.randn(1,requires_grad=True,dtype=torch.float32))\n",
        "  def forward(self,x:torch.Tensor): \n",
        "    return self.weight * x + self.bias "
      ]
    },
    {
      "cell_type": "markdown",
      "metadata": {
        "id": "H1cyDqTEV9w7"
      },
      "source": [
        "### checking the contents of our Pytorch model\n"
      ]
    },
    {
      "cell_type": "code",
      "execution_count": null,
      "metadata": {
        "colab": {
          "base_uri": "https://localhost:8080/"
        },
        "id": "fFovxe6ZUP-K",
        "outputId": "bdfe137a-9b0c-4aeb-aca3-f0dbcf3a3c53"
      },
      "outputs": [
        {
          "data": {
            "text/plain": [
              "[Parameter containing:\n",
              " tensor([0.3367], requires_grad=True), Parameter containing:\n",
              " tensor([0.1288], requires_grad=True)]"
            ]
          },
          "execution_count": 35,
          "metadata": {},
          "output_type": "execute_result"
        }
      ],
      "source": [
        "# Create a random seed\n",
        "torch.manual_seed(42)\n",
        "#Create an instance of the model(this is a subclass of nn.Module)\n",
        "model=LinearRegressionModel()\n",
        "list(model.parameters())"
      ]
    },
    {
      "cell_type": "code",
      "execution_count": null,
      "metadata": {
        "colab": {
          "base_uri": "https://localhost:8080/"
        },
        "id": "dftaHbYbeCEB",
        "outputId": "519dcecf-884a-4562-defe-ec4201f587b5"
      },
      "outputs": [
        {
          "data": {
            "text/plain": [
              "OrderedDict([('weight', tensor([0.3367])), ('bias', tensor([0.1288]))])"
            ]
          },
          "execution_count": 36,
          "metadata": {},
          "output_type": "execute_result"
        }
      ],
      "source": [
        "# list named Parameters\n",
        "model.state_dict()"
      ]
    },
    {
      "cell_type": "markdown",
      "metadata": {
        "id": "M1pnyPphf5vZ"
      },
      "source": [
        "### Make prediction using `torch.inference_mode()`\n",
        "\n",
        "\n",
        "\n",
        "\n"
      ]
    },
    {
      "cell_type": "code",
      "execution_count": null,
      "metadata": {
        "colab": {
          "base_uri": "https://localhost:8080/"
        },
        "id": "e56c4QwrhbVZ",
        "outputId": "6c83b930-f1ec-4e31-da25-087e63c2e42b"
      },
      "outputs": [
        {
          "data": {
            "text/plain": [
              "tensor([[0.2163],\n",
              "        [0.3914],\n",
              "        [0.3308],\n",
              "        [0.4318],\n",
              "        [0.2433],\n",
              "        [0.4520],\n",
              "        [0.3039],\n",
              "        [0.2972],\n",
              "        [0.3443],\n",
              "        [0.2568]])"
            ]
          },
          "execution_count": 37,
          "metadata": {},
          "output_type": "execute_result"
        }
      ],
      "source": [
        "with torch.inference_mode(): #better than torch.no.grad()\n",
        "  y_preds = model(X_test)\n",
        "\n",
        "y_preds"
      ]
    },
    {
      "cell_type": "code",
      "execution_count": null,
      "metadata": {
        "colab": {
          "base_uri": "https://localhost:8080/"
        },
        "id": "3UVC3nnLh9nS",
        "outputId": "79d983fa-e486-47ec-c257-9f36feae2863"
      },
      "outputs": [
        {
          "data": {
            "text/plain": [
              "tensor([[0.4820],\n",
              "        [0.8460],\n",
              "        [0.7200],\n",
              "        [0.9300],\n",
              "        [0.5380],\n",
              "        [0.9720],\n",
              "        [0.6640],\n",
              "        [0.6500],\n",
              "        [0.7480],\n",
              "        [0.5660]])"
            ]
          },
          "execution_count": 38,
          "metadata": {},
          "output_type": "execute_result"
        }
      ],
      "source": [
        " y_test"
      ]
    },
    {
      "cell_type": "markdown",
      "metadata": {
        "id": "P5HOKCRKifZe"
      },
      "source": [
        "## 3.Train model"
      ]
    },
    {
      "cell_type": "code",
      "execution_count": null,
      "metadata": {
        "id": "927irJVvfqOM"
      },
      "outputs": [],
      "source": [
        "# setup a loss function\n",
        "loss_fn = nn.L1Loss()\n",
        "\n",
        "# setup an optimizer\n",
        "optimizer = torch.optim.SGD(model.parameters(),\n",
        "                            momentum=0.9,\n",
        "                            lr=0.01,\n",
        "                            nesterov=True)\n"
      ]
    },
    {
      "cell_type": "markdown",
      "metadata": {
        "id": "UNCHg3LslUuO"
      },
      "source": [
        "### building Trianing Loog (and a Testing Loop) in PyTorch"
      ]
    },
    {
      "cell_type": "code",
      "execution_count": null,
      "metadata": {
        "colab": {
          "base_uri": "https://localhost:8080/"
        },
        "id": "QSP_hruelegm",
        "outputId": "fd4a86b9-a679-423c-8233-e20ba557fe11"
      },
      "outputs": [
        {
          "name": "stdout",
          "output_type": "stream",
          "text": [
            "Epoch:0 | train loss:0.340311199426651 | test Loss:0.36061611771583557\n",
            "OrderedDict([('weight', tensor([0.3455])), ('bias', tensor([0.1478]))])\n",
            "Epoch:10 | train loss:0.09765203297138214 | test Loss:0.07970426976680756\n",
            "OrderedDict([('weight', tensor([0.5296])), ('bias', tensor([0.4799]))])\n",
            "Epoch:20 | train loss:0.04185137897729874 | test Loss:0.03624248877167702\n",
            "OrderedDict([('weight', tensor([0.5685])), ('bias', tensor([0.3428]))])\n"
          ]
        }
      ],
      "source": [
        "\n",
        "#An epoch is one Loop through the data ...\n",
        "n_epochs =29 #HyperParameters \n",
        "Train_loss=[]\n",
        "Test_loss=[]\n",
        "# 0. Loop through the data\n",
        "for epoch in range(n_epochs):\n",
        "  # set the model to training mode\n",
        "  model.train() # set paramter to require gradient\n",
        "  # 1. forward pass\n",
        "  y_pred=model(X_train)\n",
        "  # 2. Calculate Loss\n",
        "  Loss=loss_fn(y_pred,y_train)\n",
        "  Train_loss.append(Loss.item())\n",
        "  # 3. Optimizer zero grad\n",
        "  optimizer.zero_grad()\n",
        "  # 4.perform backpropagation on the loss \n",
        "  Loss.backward()\n",
        "  # 5.Step the optimizer \n",
        "  optimizer.step()\n",
        "  ## Testing\n",
        "  model.eval() #turns off diffrenet settings in the model not needed for evaluation/testing(dropout, batch normalization,...)\n",
        "  with torch.inference_mode(): #turns off gradient tracking\n",
        "  # 1. Do the forward pass\n",
        "    test_pred=model(X_test)\n",
        "  # 2. Calculate the loss\n",
        "    t_loss=loss_fn(test_pred,y_test)\n",
        "    Test_loss.append(t_loss.item())\n",
        "    if epoch % 10 ==0:\n",
        "      print(f'Epoch:{epoch} | train loss:{Loss} | test Loss:{t_loss}') \n",
        "      print(model.state_dict())"
      ]
    },
    {
      "cell_type": "code",
      "execution_count": null,
      "metadata": {
        "colab": {
          "base_uri": "https://localhost:8080/"
        },
        "id": "5ZcN2fVl0XIT",
        "outputId": "43708582-2705-4338-ccdf-9313c079cc17"
      },
      "outputs": [
        {
          "data": {
            "text/plain": [
              "OrderedDict([('weight', tensor([0.7019])), ('bias', tensor([0.2996]))])"
            ]
          },
          "execution_count": 41,
          "metadata": {},
          "output_type": "execute_result"
        }
      ],
      "source": [
        "model.state_dict()"
      ]
    },
    {
      "cell_type": "code",
      "execution_count": null,
      "metadata": {
        "id": "lHJtaqy10e5f"
      },
      "outputs": [],
      "source": [
        "with torch.inference_mode():\n",
        "  y_pred_new = model(X_test)"
      ]
    },
    {
      "cell_type": "code",
      "execution_count": null,
      "metadata": {
        "colab": {
          "base_uri": "https://localhost:8080/"
        },
        "id": "1ppZr6oh1eL4",
        "outputId": "16ceab8f-1474-4b1d-908d-4e750fc9cc04"
      },
      "outputs": [
        {
          "data": {
            "text/plain": [
              "tensor([[0.4821],\n",
              "        [0.8471],\n",
              "        [0.7207],\n",
              "        [0.9313],\n",
              "        [0.5383],\n",
              "        [0.9734],\n",
              "        [0.6646],\n",
              "        [0.6506],\n",
              "        [0.7488],\n",
              "        [0.5663]])"
            ]
          },
          "execution_count": 56,
          "metadata": {},
          "output_type": "execute_result"
        }
      ],
      "source": [
        "y_pred_new"
      ]
    },
    {
      "cell_type": "code",
      "execution_count": null,
      "metadata": {
        "colab": {
          "base_uri": "https://localhost:8080/"
        },
        "id": "H5RQasUz12KB",
        "outputId": "8c02d275-5ca5-4702-9418-cd16edaa5c79"
      },
      "outputs": [
        {
          "data": {
            "text/plain": [
              "tensor([[0.4820],\n",
              "        [0.8460],\n",
              "        [0.7200],\n",
              "        [0.9300],\n",
              "        [0.5380],\n",
              "        [0.9720],\n",
              "        [0.6640],\n",
              "        [0.6500],\n",
              "        [0.7480],\n",
              "        [0.5660]])"
            ]
          },
          "execution_count": 58,
          "metadata": {},
          "output_type": "execute_result"
        }
      ],
      "source": [
        "y_test"
      ]
    },
    {
      "cell_type": "code",
      "execution_count": null,
      "metadata": {
        "colab": {
          "base_uri": "https://localhost:8080/",
          "height": 265
        },
        "id": "eupii0MF14x3",
        "outputId": "54c58633-0abd-4492-e027-d0d1bb141acb"
      },
      "outputs": [
        {
          "data": {
            "image/png": "[encoded data removed]",
            "text/plain": [
              "<Figure size 432x288 with 1 Axes>"
            ]
          },
          "metadata": {},
          "output_type": "display_data"
        }
      ],
      "source": [
        "plt.plot(Train_loss , label='Train')\n",
        "plt.plot(Test_loss,label='Test')\n",
        "plt.legend();"
      ]
    },
    {
      "cell_type": "code",
      "execution_count": null,
      "metadata": {
        "colab": {
          "base_uri": "https://localhost:8080/"
        },
        "id": "nuRx0DsPiRSx",
        "outputId": "4bfef9c5-2549-4621-a813-a7de2b0de4ad"
      },
      "outputs": [
        {
          "data": {
            "text/plain": [
              "(0.0007178157684393227, 0.004201310221105814)"
            ]
          },
          "execution_count": 46,
          "metadata": {},
          "output_type": "execute_result"
        }
      ],
      "source": [
        "Test_loss[-1],Train_loss[-1]"
      ]
    },
    {
      "cell_type": "markdown",
      "metadata": {
        "id": "-GzJ3jnXkKw7"
      },
      "source": [
        "## Savig a model in pyTorch\n",
        "\n",
        "there are three main methods you should about for saving and loading models in PyTorch\n",
        "\n",
        "1. `torch_save()` save a pyTorch object in pickle python format\n",
        "2. `troch_load()`\n",
        "3. ` torch.nn.Module.load_state_dict()`\n",
        "\n",
        "\n",
        "we can save whole model or save wieght of model"
      ]
    },
    {
      "cell_type": "code",
      "execution_count": null,
      "metadata": {
        "id": "co7mPjCrliAx"
      },
      "outputs": [],
      "source": [
        "# saving our PyToruch model\n",
        "from pathlib import Path\n",
        "\n",
        "# 1.Create models dirctiory\n",
        "MODEL_PATH=Path('models')\n",
        "MODEL_PATH.mkdir(parents=True,exist_ok=True)\n",
        "# 2.Create model save path\n",
        "MODEL_NAME='first_pytorch.pth'\n",
        "MODEL_SAVE_PATH = MODEL_PATH/MODEL_NAME\n",
        "# 3.Save model state_dict\n",
        "torch.save(model.state_dict(),MODEL_SAVE_PATH)"
      ]
    },
    {
      "cell_type": "markdown",
      "metadata": {
        "id": "SbLbB4Fnn4sU"
      },
      "source": [
        "## Loading a PyTroch model\n"
      ]
    },
    {
      "cell_type": "code",
      "execution_count": null,
      "metadata": {
        "colab": {
          "base_uri": "https://localhost:8080/"
        },
        "id": "H1YKF2nwrSGT",
        "outputId": "bd0dbabc-002d-459d-a672-fac252ff34ba"
      },
      "outputs": [
        {
          "data": {
            "text/plain": [
              "<All keys matched successfully>"
            ]
          },
          "execution_count": 48,
          "metadata": {},
          "output_type": "execute_result"
        }
      ],
      "source": [
        "# To load in a saved state_dict we have to instantiate a new instance of our model class\n",
        "loaded_model = LinearRegressionModel()\n",
        "loaded_model.load_state_dict(torch.load(MODEL_SAVE_PATH))"
      ]
    },
    {
      "cell_type": "code",
      "execution_count": null,
      "metadata": {
        "colab": {
          "base_uri": "https://localhost:8080/"
        },
        "id": "Jzyb2xLVsBv1",
        "outputId": "832e2a50-d0b5-4ac4-c059-0bfd2a38d436"
      },
      "outputs": [
        {
          "data": {
            "text/plain": [
              "OrderedDict([('weight', tensor([0.7019])), ('bias', tensor([0.2996]))])"
            ]
          },
          "execution_count": 49,
          "metadata": {},
          "output_type": "execute_result"
        }
      ],
      "source": [
        "loaded_model.state_dict()"
      ]
    },
    {
      "cell_type": "code",
      "execution_count": null,
      "metadata": {
        "colab": {
          "base_uri": "https://localhost:8080/"
        },
        "id": "UDtT2zGjsNZU",
        "outputId": "59744b7d-e0ff-4dc1-ddd4-cc3f7a6d1675"
      },
      "outputs": [
        {
          "data": {
            "text/plain": [
              "tensor([[0.4821],\n",
              "        [0.8471],\n",
              "        [0.7207],\n",
              "        [0.9313],\n",
              "        [0.5383],\n",
              "        [0.9734],\n",
              "        [0.6646],\n",
              "        [0.6506],\n",
              "        [0.7488],\n",
              "        [0.5663]])"
            ]
          },
          "execution_count": 59,
          "metadata": {},
          "output_type": "execute_result"
        }
      ],
      "source": [
        "# Make some prediction with our loaded model\n",
        "loaded_model.eval()\n",
        "with torch.inference_mode():\n",
        "  loaded_model_pred = loaded_model(X_test)\n",
        "loaded_model_pred"
      ]
    },
    {
      "cell_type": "code",
      "execution_count": null,
      "metadata": {
        "colab": {
          "base_uri": "https://localhost:8080/"
        },
        "id": "RjOyxeNKsrz5",
        "outputId": "042bc2de-4285-4c54-cba1-95a5ce2a4007"
      },
      "outputs": [
        {
          "data": {
            "text/plain": [
              "tensor([[True],\n",
              "        [True],\n",
              "        [True],\n",
              "        [True],\n",
              "        [True],\n",
              "        [True],\n",
              "        [True],\n",
              "        [True],\n",
              "        [True],\n",
              "        [True]])"
            ]
          },
          "execution_count": 60,
          "metadata": {},
          "output_type": "execute_result"
        }
      ],
      "source": [
        "y_pred_new == loaded_model_pred"
      ]
    },
    {
      "cell_type": "markdown",
      "metadata": {
        "id": "D1fYc4LTsxbu"
      },
      "source": [
        "## 6. Putting it all together \n",
        "let's go back through the steps above and see it all in one place. "
      ]
    },
    {
      "cell_type": "code",
      "execution_count": null,
      "metadata": {
        "id": "wdvtbP6huEPR"
      },
      "outputs": [],
      "source": [
        "import torch\n",
        "import torch.nn as nn\n",
        "import matplotlib.pyplot as plt"
      ]
    },
    {
      "cell_type": "markdown",
      "metadata": {
        "id": "TVy8Xi9Au8VX"
      },
      "source": [
        "Create device-agnostic code.\n",
        "This means if we've got access to a GPU,\n",
        "our code will use it(for potentially faster computing)\n"
      ]
    },
    {
      "cell_type": "code",
      "execution_count": null,
      "metadata": {
        "colab": {
          "base_uri": "https://localhost:8080/"
        },
        "id": "4VMtHSdUveVr",
        "outputId": "cd4ad8e2-4163-4ce0-be2c-06224dae3a3e"
      },
      "outputs": [
        {
          "name": "stdout",
          "output_type": "stream",
          "text": [
            "Using device: cuda\n"
          ]
        }
      ],
      "source": [
        "# Setup device agnostic code\n",
        "device = 'cuda' if torch.cuda.is_available() else 'cpu'\n",
        "print(f'Using device: {device}')"
      ]
    },
    {
      "cell_type": "markdown",
      "metadata": {
        "id": "EM6SKbNEwAg7"
      },
      "source": [
        "### 6.1 Data"
      ]
    },
    {
      "cell_type": "code",
      "execution_count": null,
      "metadata": {
        "colab": {
          "base_uri": "https://localhost:8080/"
        },
        "id": "42q50uHZwV9u",
        "outputId": "46624a6a-cd5a-4e9b-b7e3-58ee91de0c7a"
      },
      "outputs": [
        {
          "data": {
            "text/plain": [
              "(tensor([[0.0000],\n",
              "         [0.0200],\n",
              "         [0.0400],\n",
              "         [0.0600],\n",
              "         [0.0800],\n",
              "         [0.1000],\n",
              "         [0.1200],\n",
              "         [0.1400],\n",
              "         [0.1600],\n",
              "         [0.1800]]), tensor([[0.3000],\n",
              "         [0.3140],\n",
              "         [0.3280],\n",
              "         [0.3420],\n",
              "         [0.3560],\n",
              "         [0.3700],\n",
              "         [0.3840],\n",
              "         [0.3980],\n",
              "         [0.4120],\n",
              "         [0.4260]]))"
            ]
          },
          "execution_count": 8,
          "metadata": {},
          "output_type": "execute_result"
        }
      ],
      "source": [
        "#Create some data using the linear regression formula of y = W*X+b\n",
        "weight = 0.7\n",
        "bias = 0.3\n",
        "# Create range values\n",
        "start = 0\n",
        "end = 1\n",
        "step = 0.02\n",
        "#Create X and y \n",
        "X=torch.arange(start,end,step).unsqueeze(dim=1)\n",
        "y= weight * X + bias\n",
        "X[:10] , y[:10]"
      ]
    },
    {
      "cell_type": "code",
      "execution_count": null,
      "metadata": {
        "id": "FBTMKuzyxKaY"
      },
      "outputs": [],
      "source": [
        "#create a train/test split\n",
        "from sklearn.model_selection import train_test_split"
      ]
    },
    {
      "cell_type": "code",
      "execution_count": null,
      "metadata": {
        "id": "-wMIKl70xKaZ"
      },
      "outputs": [],
      "source": [
        "X_train, X_test, y_train, y_test = train_test_split(X, y, \n",
        "                                                    test_size=0.2, \n",
        "                                                    random_state=42)"
      ]
    },
    {
      "cell_type": "markdown",
      "metadata": {
        "id": "MfFHpDhoxM6i"
      },
      "source": [
        "## 6.2 building a Pytorch Linear Model"
      ]
    },
    {
      "cell_type": "code",
      "execution_count": null,
      "metadata": {
        "colab": {
          "base_uri": "https://localhost:8080/"
        },
        "id": "MDrEaUpwxgPJ",
        "outputId": "ddf1a885-d442-427d-bc78-24db9283a297"
      },
      "outputs": [
        {
          "data": {
            "text/plain": [
              "OrderedDict([('weight', tensor([[0.7645]])), ('bias', tensor([0.8300]))])"
            ]
          },
          "execution_count": 11,
          "metadata": {},
          "output_type": "execute_result"
        }
      ],
      "source": [
        "torch.manual_seed(42)\n",
        "model=nn.Linear(1,1)\n",
        "model.state_dict()"
      ]
    },
    {
      "cell_type": "code",
      "execution_count": null,
      "metadata": {
        "colab": {
          "base_uri": "https://localhost:8080/"
        },
        "id": "xVz7Z_ogzckX",
        "outputId": "d8bc3bb1-32fe-4fcc-fddc-af9cc9052f6c"
      },
      "outputs": [
        {
          "data": {
            "text/plain": [
              "Linear(in_features=1, out_features=1, bias=True)"
            ]
          },
          "execution_count": 12,
          "metadata": {},
          "output_type": "execute_result"
        }
      ],
      "source": [
        "#set the model to use the target device\n",
        "model.to(device)"
      ]
    },
    {
      "cell_type": "code",
      "execution_count": null,
      "metadata": {
        "colab": {
          "base_uri": "https://localhost:8080/"
        },
        "id": "ZlyMF66b0KRW",
        "outputId": "9ef03244-2468-4b2e-e722-a728ff606e54"
      },
      "outputs": [
        {
          "data": {
            "text/plain": [
              "device(type='cuda', index=0)"
            ]
          },
          "execution_count": 13,
          "metadata": {},
          "output_type": "execute_result"
        }
      ],
      "source": [
        "next(model.parameters()).device"
      ]
    },
    {
      "cell_type": "markdown",
      "metadata": {
        "id": "wZqXh8IF0TXy"
      },
      "source": [
        "### 6.3 Training\n"
      ]
    },
    {
      "cell_type": "code",
      "execution_count": null,
      "metadata": {
        "id": "L-3tUUWq0XnZ"
      },
      "outputs": [],
      "source": [
        "Loss = nn.L1Loss()\n",
        "optimizer = torch.optim.SGD(model.parameters(),lr=0.01,momentum=0.9,\n",
        "                            nesterov=True)"
      ]
    },
    {
      "cell_type": "code",
      "execution_count": null,
      "metadata": {
        "colab": {
          "background_save": true,
          "base_uri": "https://localhost:8080/",
          "height": 235
        },
        "id": "eY2OjJr21Lzx",
        "outputId": "e2d92891-c9f5-4f5e-89f6-966dccedf176"
      },
      "outputs": [
        {
          "ename": "TypeError",
          "evalue": "ignored",
          "output_type": "error",
          "traceback": [
            "\u001b[0;31m---------------------------------------------------------------------------\u001b[0m",
            "\u001b[0;31mTypeError\u001b[0m                                 Traceback (most recent call last)",
            "\u001b[0;32m<ipython-input-19-164a93f0910f>\u001b[0m in \u001b[0;36m<module>\u001b[0;34m\u001b[0m\n\u001b[1;32m     26\u001b[0m     \u001b[0mtest_pred\u001b[0m\u001b[0;34m=\u001b[0m\u001b[0mmodel\u001b[0m\u001b[0;34m(\u001b[0m\u001b[0mX_test\u001b[0m\u001b[0;34m)\u001b[0m\u001b[0;34m\u001b[0m\u001b[0;34m\u001b[0m\u001b[0m\n\u001b[1;32m     27\u001b[0m   \u001b[0;31m# 2. Calculate the loss\u001b[0m\u001b[0;34m\u001b[0m\u001b[0;34m\u001b[0m\u001b[0;34m\u001b[0m\u001b[0m\n\u001b[0;32m---> 28\u001b[0;31m     \u001b[0mt_loss\u001b[0m\u001b[0;34m=\u001b[0m\u001b[0mLoss\u001b[0m\u001b[0;34m(\u001b[0m\u001b[0mtest_pred\u001b[0m\u001b[0;34m,\u001b[0m\u001b[0my_test\u001b[0m\u001b[0;34m)\u001b[0m\u001b[0;34m\u001b[0m\u001b[0;34m\u001b[0m\u001b[0m\n\u001b[0m\u001b[1;32m     29\u001b[0m     \u001b[0mTest_loss\u001b[0m\u001b[0;34m.\u001b[0m\u001b[0mappend\u001b[0m\u001b[0;34m(\u001b[0m\u001b[0mt_loss\u001b[0m\u001b[0;34m.\u001b[0m\u001b[0mitem\u001b[0m\u001b[0;34m(\u001b[0m\u001b[0;34m)\u001b[0m\u001b[0;34m)\u001b[0m\u001b[0;34m\u001b[0m\u001b[0;34m\u001b[0m\u001b[0m\n\u001b[1;32m     30\u001b[0m     \u001b[0;32mif\u001b[0m \u001b[0mepoch\u001b[0m \u001b[0;34m%\u001b[0m \u001b[0;36m10\u001b[0m \u001b[0;34m==\u001b[0m\u001b[0;36m0\u001b[0m\u001b[0;34m:\u001b[0m\u001b[0;34m\u001b[0m\u001b[0;34m\u001b[0m\u001b[0m\n",
            "\u001b[0;31mTypeError\u001b[0m: 'Tensor' object is not callable"
          ]
        }
      ],
      "source": [
        "\n",
        "#An epoch is one Loop through the data ...\n",
        "n_epochs =29 #HyperParameters \n",
        "Train_loss=[]\n",
        "Test_loss=[]\n",
        "#put data on same device\n",
        "X_train, X_test, y_train, y_test = X_train.to(device), X_test.to(device), y_train.to(device), y_test.to(device)\n",
        "# 0. Loop through the data\n",
        "for epoch in range(n_epochs):\n",
        "  # set the model to training mode\n",
        "  model.train() # set paramter to require gradient\n",
        "  # 1. forward pass\n",
        "  y_pred=model(X_train)\n",
        "  # 2. Calculate Loss\n",
        "  Loss=loss_fn(y_pred,y_train)\n",
        "  Train_loss.append(Loss.item())\n",
        "  # 3. Optimizer zero grad\n",
        "  optimizer.zero_grad()\n",
        "  # 4.perform backpropagation on the loss \n",
        "  Loss.backward()\n",
        "  # 5.Step the optimizer \n",
        "  optimizer.step()\n",
        "  ## Testing\n",
        "  model.eval() #turns off diffrenet settings in the model not needed for evaluation/testing(dropout, batch normalization,...)\n",
        "  with torch.inference_mode(): #turns off gradient tracking\n",
        "  # 1. Do the forward pass\n",
        "    test_pred=model(X_test)\n",
        "  # 2. Calculate the loss\n",
        "    t_loss=loss_fn(test_pred,y_test)\n",
        "    Test_loss.append(t_loss.item())\n",
        "    if epoch % 10 ==0:\n",
        "      print(f'Epoch:{epoch} | train loss:{Loss} | test Loss:{t_loss}') \n",
        "      print(model.state_dict())"
      ]
    },
    {
      "cell_type": "markdown",
      "source": [
        "# Neural network classification with Pytorch\n",
        "\n",
        "Classification is a problem of predictiong wether something is one thing or another "
      ],
      "metadata": {
        "id": "Kt4NCzdr1w2X"
      }
    },
    {
      "cell_type": "markdown",
      "source": [
        "## 1.Make Classification data and get it ready"
      ],
      "metadata": {
        "id": "D8NMxIiIyUar"
      }
    },
    {
      "cell_type": "code",
      "source": [
        "from sklearn.datasets import make_circles\n",
        "import torch \n",
        "import torch.nn as nn\n",
        "from sklearn.model_selection import train_test_split\n",
        "import numpy as np"
      ],
      "metadata": {
        "id": "jMAwbG1QzIQN"
      },
      "execution_count": null,
      "outputs": []
    },
    {
      "cell_type": "code",
      "source": [
        "# make 1000 samples \n",
        "n_samples  = 1000\n",
        "\n",
        "#create cirucle\n",
        "X,y = make_circles(n_samples,\n",
        "                   noise=0.03,\n",
        "                   random_state = 42)"
      ],
      "metadata": {
        "id": "9Cb1vOLxywWZ"
      },
      "execution_count": null,
      "outputs": []
    },
    {
      "cell_type": "code",
      "source": [
        "\n",
        "print(f'First  5 samples of X:\\n{X[:5]}')\n",
        "print(f'First  5 samples of X:\\n{y[:5]}')"
      ],
      "metadata": {
        "colab": {
          "base_uri": "https://localhost:8080/"
        },
        "id": "36pPhicLzUSj",
        "outputId": "15446c0e-a073-4740-865a-cb71455f62a4"
      },
      "execution_count": null,
      "outputs": [
        {
          "output_type": "stream",
          "name": "stdout",
          "text": [
            "First  5 samples of X:\n",
            "[[ 0.75424625  0.23148074]\n",
            " [-0.75615888  0.15325888]\n",
            " [-0.81539193  0.17328203]\n",
            " [-0.39373073  0.69288277]\n",
            " [ 0.44220765 -0.89672343]]\n",
            "First  5 samples of X:\n",
            "[1 1 1 1 0]\n"
          ]
        }
      ]
    },
    {
      "cell_type": "code",
      "source": [
        "# Make DataFrame of circle data\n",
        "import pandas as pd\n",
        "circles  = pd.DataFrame({\"X1\":X[:,0],\n",
        "                         \"X2\":X[:,1],\n",
        "                         \"Label\":y})"
      ],
      "metadata": {
        "id": "npARQl290WQF"
      },
      "execution_count": null,
      "outputs": []
    },
    {
      "cell_type": "code",
      "source": [
        "circles "
      ],
      "metadata": {
        "colab": {
          "base_uri": "https://localhost:8080/",
          "height": 424
        },
        "id": "5KcGjgKi0mVe",
        "outputId": "46929935-ff5c-4554-9f2b-09d36bf013ec"
      },
      "execution_count": null,
      "outputs": [
        {
          "output_type": "execute_result",
          "data": {
            "text/plain": [
              "           X1        X2  Label\n",
              "0    0.754246  0.231481      1\n",
              "1   -0.756159  0.153259      1\n",
              "2   -0.815392  0.173282      1\n",
              "3   -0.393731  0.692883      1\n",
              "4    0.442208 -0.896723      0\n",
              "..        ...       ...    ...\n",
              "995  0.244054  0.944125      0\n",
              "996 -0.978655 -0.272373      0\n",
              "997 -0.136900 -0.810012      1\n",
              "998  0.670362 -0.767502      0\n",
              "999  0.281057  0.963824      0\n",
              "\n",
              "[1000 rows x 3 columns]"
            ],
            "text/html": [
              "\n",
              "  <div id=\"df-193e1076-0286-4d6c-a73c-2a640d89ad3c\">\n",
              "    <div class=\"colab-df-container\">\n",
              "      <div>\n",
              "<style scoped>\n",
              "    .dataframe tbody tr th:only-of-type {\n",
              "        vertical-align: middle;\n",
              "    }\n",
              "\n",
              "    .dataframe tbody tr th {\n",
              "        vertical-align: top;\n",
              "    }\n",
              "\n",
              "    .dataframe thead th {\n",
              "        text-align: right;\n",
              "    }\n",
              "</style>\n",
              "<table border=\"1\" class=\"dataframe\">\n",
              "  <thead>\n",
              "    <tr style=\"text-align: right;\">\n",
              "      <th></th>\n",
              "      <th>X1</th>\n",
              "      <th>X2</th>\n",
              "      <th>Label</th>\n",
              "    </tr>\n",
              "  </thead>\n",
              "  <tbody>\n",
              "    <tr>\n",
              "      <th>0</th>\n",
              "      <td>0.754246</td>\n",
              "      <td>0.231481</td>\n",
              "      <td>1</td>\n",
              "    </tr>\n",
              "    <tr>\n",
              "      <th>1</th>\n",
              "      <td>-0.756159</td>\n",
              "      <td>0.153259</td>\n",
              "      <td>1</td>\n",
              "    </tr>\n",
              "    <tr>\n",
              "      <th>2</th>\n",
              "      <td>-0.815392</td>\n",
              "      <td>0.173282</td>\n",
              "      <td>1</td>\n",
              "    </tr>\n",
              "    <tr>\n",
              "      <th>3</th>\n",
              "      <td>-0.393731</td>\n",
              "      <td>0.692883</td>\n",
              "      <td>1</td>\n",
              "    </tr>\n",
              "    <tr>\n",
              "      <th>4</th>\n",
              "      <td>0.442208</td>\n",
              "      <td>-0.896723</td>\n",
              "      <td>0</td>\n",
              "    </tr>\n",
              "    <tr>\n",
              "      <th>...</th>\n",
              "      <td>...</td>\n",
              "      <td>...</td>\n",
              "      <td>...</td>\n",
              "    </tr>\n",
              "    <tr>\n",
              "      <th>995</th>\n",
              "      <td>0.244054</td>\n",
              "      <td>0.944125</td>\n",
              "      <td>0</td>\n",
              "    </tr>\n",
              "    <tr>\n",
              "      <th>996</th>\n",
              "      <td>-0.978655</td>\n",
              "      <td>-0.272373</td>\n",
              "      <td>0</td>\n",
              "    </tr>\n",
              "    <tr>\n",
              "      <th>997</th>\n",
              "      <td>-0.136900</td>\n",
              "      <td>-0.810012</td>\n",
              "      <td>1</td>\n",
              "    </tr>\n",
              "    <tr>\n",
              "      <th>998</th>\n",
              "      <td>0.670362</td>\n",
              "      <td>-0.767502</td>\n",
              "      <td>0</td>\n",
              "    </tr>\n",
              "    <tr>\n",
              "      <th>999</th>\n",
              "      <td>0.281057</td>\n",
              "      <td>0.963824</td>\n",
              "      <td>0</td>\n",
              "    </tr>\n",
              "  </tbody>\n",
              "</table>\n",
              "<p>1000 rows × 3 columns</p>\n",
              "</div>\n",
              "      <button class=\"colab-df-convert\" onclick=\"convertToInteractive('df-193e1076-0286-4d6c-a73c-2a640d89ad3c')\"\n",
              "              title=\"Convert this dataframe to an interactive table.\"\n",
              "              style=\"display:none;\">\n",
              "        \n",
              "  <svg xmlns=\"http://www.w3.org/2000/svg\" height=\"24px\"viewBox=\"0 0 24 24\"\n",
              "       width=\"24px\">\n",
              "    <path d=\"M0 0h24v24H0V0z\" fill=\"none\"/>\n",
              "    <path d=\"M18.56 5.44l.94 2.06.94-2.06 2.06-.94-2.06-.94-.94-2.06-.94 2.06-2.06.94zm-11 1L8.5 8.5l.94-2.06 2.06-.94-2.06-.94L8.5 2.5l-.94 2.06-2.06.94zm10 10l.94 2.06.94-2.06 2.06-.94-2.06-.94-.94-2.06-.94 2.06-2.06.94z\"/><path d=\"M17.41 7.96l-1.37-1.37c-.4-.4-.92-.59-1.43-.59-.52 0-1.04.2-1.43.59L10.3 9.45l-7.72 7.72c-.78.78-.78 2.05 0 2.83L4 21.41c.39.39.9.59 1.41.59.51 0 1.02-.2 1.41-.59l7.78-7.78 2.81-2.81c.8-.78.8-2.07 0-2.86zM5.41 20L4 18.59l7.72-7.72 1.47 1.35L5.41 20z\"/>\n",
              "  </svg>\n",
              "      </button>\n",
              "      \n",
              "  <style>\n",
              "    .colab-df-container {\n",
              "      display:flex;\n",
              "      flex-wrap:wrap;\n",
              "      gap: 12px;\n",
              "    }\n",
              "\n",
              "    .colab-df-convert {\n",
              "      background-color: #E8F0FE;\n",
              "      border: none;\n",
              "      border-radius: 50%;\n",
              "      cursor: pointer;\n",
              "      display: none;\n",
              "      fill: #1967D2;\n",
              "      height: 32px;\n",
              "      padding: 0 0 0 0;\n",
              "      width: 32px;\n",
              "    }\n",
              "\n",
              "    .colab-df-convert:hover {\n",
              "      background-color: #E2EBFA;\n",
              "      box-shadow: 0px 1px 2px rgba(60, 64, 67, 0.3), 0px 1px 3px 1px rgba(60, 64, 67, 0.15);\n",
              "      fill: #174EA6;\n",
              "    }\n",
              "\n",
              "    [theme=dark] .colab-df-convert {\n",
              "      background-color: #3B4455;\n",
              "      fill: #D2E3FC;\n",
              "    }\n",
              "\n",
              "    [theme=dark] .colab-df-convert:hover {\n",
              "      background-color: #434B5C;\n",
              "      box-shadow: 0px 1px 3px 1px rgba(0, 0, 0, 0.15);\n",
              "      filter: drop-shadow(0px 1px 2px rgba(0, 0, 0, 0.3));\n",
              "      fill: #FFFFFF;\n",
              "    }\n",
              "  </style>\n",
              "\n",
              "      <script>\n",
              "        const buttonEl =\n",
              "          document.querySelector('#df-193e1076-0286-4d6c-a73c-2a640d89ad3c button.colab-df-convert');\n",
              "        buttonEl.style.display =\n",
              "          google.colab.kernel.accessAllowed ? 'block' : 'none';\n",
              "\n",
              "        async function convertToInteractive(key) {\n",
              "          const element = document.querySelector('#df-193e1076-0286-4d6c-a73c-2a640d89ad3c');\n",
              "          const dataTable =\n",
              "            await google.colab.kernel.invokeFunction('convertToInteractive',\n",
              "                                                     [key], {});\n",
              "          if (!dataTable) return;\n",
              "\n",
              "          const docLinkHtml = 'Like what you see? Visit the ' +\n",
              "            '<a target=\"_blank\" href=https://colab.research.google.com/notebooks/data_table.ipynb>data table notebook</a>'\n",
              "            + ' to learn more about interactive tables.';\n",
              "          element.innerHTML = '';\n",
              "          dataTable['output_type'] = 'display_data';\n",
              "          await google.colab.output.renderOutput(dataTable, element);\n",
              "          const docLink = document.createElement('div');\n",
              "          docLink.innerHTML = docLinkHtml;\n",
              "          element.appendChild(docLink);\n",
              "        }\n",
              "      </script>\n",
              "    </div>\n",
              "  </div>\n",
              "  "
            ]
          },
          "metadata": {},
          "execution_count": 50
        }
      ]
    },
    {
      "cell_type": "code",
      "source": [
        "#Visualize\n",
        "import matplotlib.pyplot as plt\n",
        "plt.scatter(x=X[:,0],\n",
        "            y=X[:,1],\n",
        "            c=y,\n",
        "            cmap=plt.cm.RdYlBu);"
      ],
      "metadata": {
        "colab": {
          "base_uri": "https://localhost:8080/",
          "height": 265
        },
        "id": "_evu4zB10ap0",
        "outputId": "2e35e345-8727-4ff5-b7ba-508dfe7ef496"
      },
      "execution_count": null,
      "outputs": [
        {
          "output_type": "display_data",
          "data": {
            "text/plain": [
              "<Figure size 432x288 with 1 Axes>"
            ],
            "image/png": "[encoded data removed]"
          },
          "metadata": {
            "needs_background": "light"
          }
        }
      ]
    },
    {
      "cell_type": "markdown",
      "source": [
        "## Building a model\n",
        "Let's build a model to classify our blue and red dots.\n"
      ],
      "metadata": {
        "id": "vjGAjMPY1pAx"
      }
    },
    {
      "cell_type": "code",
      "source": [
        "device = 'cuda' if torch.cuda.is_available() else 'cpu'\n",
        "device"
      ],
      "metadata": {
        "colab": {
          "base_uri": "https://localhost:8080/",
          "height": 35
        },
        "id": "MNu4jJ6u292Y",
        "outputId": "8f4f9a7a-1f1c-4156-e330-1b1f28855b08"
      },
      "execution_count": null,
      "outputs": [
        {
          "output_type": "execute_result",
          "data": {
            "text/plain": [
              "'cpu'"
            ],
            "application/vnd.google.colaboratory.intrinsic+json": {
              "type": "string"
            }
          },
          "metadata": {},
          "execution_count": 52
        }
      ]
    },
    {
      "cell_type": "code",
      "source": [
        "X_train, X_test, y_train, y_test = train_test_split( X, y, test_size=0.2, random_state=42,stratify=y)"
      ],
      "metadata": {
        "id": "MeqmWI5J7RKK"
      },
      "execution_count": null,
      "outputs": []
    },
    {
      "cell_type": "code",
      "source": [
        "np.unique(y_train,return_counts=True)"
      ],
      "metadata": {
        "colab": {
          "base_uri": "https://localhost:8080/"
        },
        "id": "ptZa6BWr7tLE",
        "outputId": "490a77b6-1db9-471d-c5db-c9b06a63d1c3"
      },
      "execution_count": null,
      "outputs": [
        {
          "output_type": "execute_result",
          "data": {
            "text/plain": [
              "(array([0, 1]), array([400, 400]))"
            ]
          },
          "metadata": {},
          "execution_count": 54
        }
      ]
    },
    {
      "cell_type": "code",
      "source": [
        "class NeuralNetwork(nn.Module):\n",
        "  def __init__(self):\n",
        "    super.__init__()\n",
        "    self.layer_1 = nn.Linear(in_featrue=2,out_features=5)\n",
        "    self.layer_2 = nn.Linear(in_featrue=5,out_features=1)\n",
        "  def forward(self,x:torch.tensor):\n",
        "    x=self.layer_1(x)\n",
        "    return self.layer_2(x)\n"
      ],
      "metadata": {
        "id": "4ceZPWSP3Tcc"
      },
      "execution_count": null,
      "outputs": []
    },
    {
      "cell_type": "code",
      "source": [
        " #Let's replicate the model above using nn.Sequentianl()\n",
        "model = nn.Sequential(\n",
        "    nn.Linear(2,5),\n",
        "    nn.Linear(5,1)\n",
        ").to(device)"
      ],
      "metadata": {
        "id": "Sm8Mh-X63ssQ"
      },
      "execution_count": null,
      "outputs": []
    },
    {
      "cell_type": "markdown",
      "source": [
        " ### setup loss function and optimizer\n",
        " which loss function or optimizer should you use?\n",
        " this is problem specific.\n",
        "  "
      ],
      "metadata": {
        "id": "U3AcFncycoiS"
      }
    },
    {
      "cell_type": "code",
      "source": [
        "# setup the loss function\n",
        "loss_fn = nn.BCEWithLogitsLoss()\n",
        "#loss_fn = nn.BCELoss()\n",
        "optimizer = torch.optim.SGD(model.parameters(),lr=0.1)"
      ],
      "metadata": {
        "id": "PF8EAjJ0fyvt"
      },
      "execution_count": null,
      "outputs": []
    },
    {
      "cell_type": "code",
      "source": [
        "# Calculate accuracy \n",
        "def accuracy_fn(y_true,y_pred):\n",
        "  correct = torch.eq(y_true,y_pred).sum().item()\n",
        "  acc = (correct / len(y_pred)) * 100\n",
        "  return acc"
      ],
      "metadata": {
        "id": "YVEHQ0bGh76S"
      },
      "execution_count": null,
      "outputs": []
    },
    {
      "cell_type": "markdown",
      "source": [
        "## 3.Train model"
      ],
      "metadata": {
        "id": "_fjbuLCHtj3S"
      }
    },
    {
      "cell_type": "markdown",
      "source": [
        "### 3.1 Going from raw logits -> prediction probabilities -> prediction labels\n",
        "Our model outputs are going to be raw **logits** "
      ],
      "metadata": {
        "id": "6dyrhImpyvnf"
      }
    },
    {
      "cell_type": "code",
      "source": [
        "torch.manual_seed(42)\n",
        "n_epochs = 100\n",
        "X_train, X_test, y_train, y_test =torch.from_numpy(X_train).to(device,dtype=torch.float32), torch.from_numpy(X_test).to(device,dtype=torch.float32), torch.from_numpy(y_train).to(device,dtype=torch.float32), torch.from_numpy(y_test).to(device,dtype=torch.float32)\n",
        "for epoch in range(n_epochs):\n",
        "  model.train()\n",
        "  y_logits = model(X_train).squeeze()\n",
        "  y_pred = torch.round(torch.sigmoid(y_logits))\n",
        "  Loss=loss_fn(y_logits,y_train) #nn.BCEwithLogitsLoss expects raw logits as input  if nn.BECLoss expects prediction probabilites as input\n",
        "  acc = accuracy_fn(y_train,y_pred)\n",
        "  optimizer.zero_grad()\n",
        "  Loss.backward()\n",
        "  optimizer.step()\n",
        "  model.eval()\n",
        "  with torch.inference_mode():\n",
        "    test_logits= model(X_test).squeeze()\n",
        "    test_pred = torch.round(torch.sigmoid(test_logits))\n",
        "    test_loss=loss_fn(test_logits,y_test)\n",
        "    test_acc = accuracy_fn(y_test,test_pred)\n",
        "  if n_epochs % 10 ==0:\n",
        "    print(f'Epoch : {n_epochs} | loss: {Loss:.5f} | Acc:{acc:.2f} | Test_loss:{test_loss:.5f},test acc: {test_acc:.2f}' )"
      ],
      "metadata": {
        "id": "6ZGwxLpK0QDE",
        "colab": {
          "base_uri": "https://localhost:8080/"
        },
        "outputId": "5306c55a-0b6f-40be-e4c5-b7eb7f10acb3"
      },
      "execution_count": null,
      "outputs": [
        {
          "output_type": "stream",
          "name": "stdout",
          "text": [
            "Epoch : 100 | loss: 0.69572 | Acc:50.00 | Test_loss:0.69487,test acc: 50.00\n",
            "Epoch : 100 | loss: 0.69553 | Acc:50.00 | Test_loss:0.69470,test acc: 50.00\n",
            "Epoch : 100 | loss: 0.69536 | Acc:50.00 | Test_loss:0.69455,test acc: 50.00\n",
            "Epoch : 100 | loss: 0.69520 | Acc:50.00 | Test_loss:0.69441,test acc: 50.00\n",
            "Epoch : 100 | loss: 0.69506 | Acc:50.00 | Test_loss:0.69428,test acc: 50.00\n",
            "Epoch : 100 | loss: 0.69493 | Acc:50.00 | Test_loss:0.69417,test acc: 50.00\n",
            "Epoch : 100 | loss: 0.69481 | Acc:50.00 | Test_loss:0.69407,test acc: 50.00\n",
            "Epoch : 100 | loss: 0.69471 | Acc:50.00 | Test_loss:0.69397,test acc: 50.00\n",
            "Epoch : 100 | loss: 0.69461 | Acc:50.00 | Test_loss:0.69389,test acc: 50.00\n",
            "Epoch : 100 | loss: 0.69452 | Acc:50.00 | Test_loss:0.69381,test acc: 50.00\n",
            "Epoch : 100 | loss: 0.69444 | Acc:50.00 | Test_loss:0.69374,test acc: 50.00\n",
            "Epoch : 100 | loss: 0.69437 | Acc:50.00 | Test_loss:0.69368,test acc: 50.00\n",
            "Epoch : 100 | loss: 0.69430 | Acc:49.88 | Test_loss:0.69363,test acc: 50.00\n",
            "Epoch : 100 | loss: 0.69424 | Acc:48.88 | Test_loss:0.69358,test acc: 46.50\n",
            "Epoch : 100 | loss: 0.69418 | Acc:45.38 | Test_loss:0.69353,test acc: 45.50\n",
            "Epoch : 100 | loss: 0.69413 | Acc:43.12 | Test_loss:0.69349,test acc: 44.00\n",
            "Epoch : 100 | loss: 0.69408 | Acc:41.62 | Test_loss:0.69346,test acc: 43.50\n",
            "Epoch : 100 | loss: 0.69404 | Acc:40.38 | Test_loss:0.69342,test acc: 43.50\n",
            "Epoch : 100 | loss: 0.69400 | Acc:40.88 | Test_loss:0.69339,test acc: 45.00\n",
            "Epoch : 100 | loss: 0.69396 | Acc:42.38 | Test_loss:0.69337,test acc: 44.50\n",
            "Epoch : 100 | loss: 0.69393 | Acc:43.88 | Test_loss:0.69334,test acc: 46.00\n",
            "Epoch : 100 | loss: 0.69389 | Acc:44.88 | Test_loss:0.69332,test acc: 46.50\n",
            "Epoch : 100 | loss: 0.69387 | Acc:45.88 | Test_loss:0.69330,test acc: 46.50\n",
            "Epoch : 100 | loss: 0.69384 | Acc:46.38 | Test_loss:0.69329,test acc: 46.50\n",
            "Epoch : 100 | loss: 0.69381 | Acc:45.88 | Test_loss:0.69327,test acc: 46.00\n",
            "Epoch : 100 | loss: 0.69379 | Acc:46.62 | Test_loss:0.69326,test acc: 46.00\n",
            "Epoch : 100 | loss: 0.69377 | Acc:46.50 | Test_loss:0.69325,test acc: 46.00\n",
            "Epoch : 100 | loss: 0.69375 | Acc:46.50 | Test_loss:0.69324,test acc: 48.00\n",
            "Epoch : 100 | loss: 0.69373 | Acc:46.88 | Test_loss:0.69323,test acc: 49.00\n",
            "Epoch : 100 | loss: 0.69371 | Acc:46.62 | Test_loss:0.69322,test acc: 50.50\n",
            "Epoch : 100 | loss: 0.69369 | Acc:46.88 | Test_loss:0.69321,test acc: 50.50\n",
            "Epoch : 100 | loss: 0.69367 | Acc:46.50 | Test_loss:0.69321,test acc: 50.00\n",
            "Epoch : 100 | loss: 0.69366 | Acc:46.62 | Test_loss:0.69320,test acc: 48.50\n",
            "Epoch : 100 | loss: 0.69364 | Acc:47.12 | Test_loss:0.69320,test acc: 49.00\n",
            "Epoch : 100 | loss: 0.69363 | Acc:47.25 | Test_loss:0.69319,test acc: 49.00\n",
            "Epoch : 100 | loss: 0.69362 | Acc:47.50 | Test_loss:0.69319,test acc: 49.50\n",
            "Epoch : 100 | loss: 0.69360 | Acc:47.50 | Test_loss:0.69319,test acc: 49.50\n",
            "Epoch : 100 | loss: 0.69359 | Acc:48.12 | Test_loss:0.69319,test acc: 49.00\n",
            "Epoch : 100 | loss: 0.69358 | Acc:48.25 | Test_loss:0.69319,test acc: 48.50\n",
            "Epoch : 100 | loss: 0.69357 | Acc:48.38 | Test_loss:0.69319,test acc: 48.00\n",
            "Epoch : 100 | loss: 0.69356 | Acc:48.25 | Test_loss:0.69319,test acc: 48.00\n",
            "Epoch : 100 | loss: 0.69355 | Acc:48.25 | Test_loss:0.69318,test acc: 48.50\n",
            "Epoch : 100 | loss: 0.69354 | Acc:48.38 | Test_loss:0.69319,test acc: 48.50\n",
            "Epoch : 100 | loss: 0.69353 | Acc:48.75 | Test_loss:0.69319,test acc: 48.50\n",
            "Epoch : 100 | loss: 0.69352 | Acc:49.00 | Test_loss:0.69319,test acc: 48.00\n",
            "Epoch : 100 | loss: 0.69351 | Acc:48.62 | Test_loss:0.69319,test acc: 48.00\n",
            "Epoch : 100 | loss: 0.69351 | Acc:48.75 | Test_loss:0.69319,test acc: 48.00\n",
            "Epoch : 100 | loss: 0.69350 | Acc:49.00 | Test_loss:0.69319,test acc: 48.00\n",
            "Epoch : 100 | loss: 0.69349 | Acc:49.00 | Test_loss:0.69319,test acc: 48.00\n",
            "Epoch : 100 | loss: 0.69348 | Acc:48.88 | Test_loss:0.69319,test acc: 48.50\n",
            "Epoch : 100 | loss: 0.69348 | Acc:48.62 | Test_loss:0.69320,test acc: 49.00\n",
            "Epoch : 100 | loss: 0.69347 | Acc:48.75 | Test_loss:0.69320,test acc: 49.50\n",
            "Epoch : 100 | loss: 0.69346 | Acc:48.75 | Test_loss:0.69320,test acc: 49.50\n",
            "Epoch : 100 | loss: 0.69345 | Acc:48.88 | Test_loss:0.69320,test acc: 50.00\n",
            "Epoch : 100 | loss: 0.69345 | Acc:48.88 | Test_loss:0.69321,test acc: 50.50\n",
            "Epoch : 100 | loss: 0.69344 | Acc:48.62 | Test_loss:0.69321,test acc: 50.50\n",
            "Epoch : 100 | loss: 0.69344 | Acc:48.62 | Test_loss:0.69321,test acc: 51.00\n",
            "Epoch : 100 | loss: 0.69343 | Acc:48.62 | Test_loss:0.69321,test acc: 51.00\n",
            "Epoch : 100 | loss: 0.69342 | Acc:48.75 | Test_loss:0.69322,test acc: 51.00\n",
            "Epoch : 100 | loss: 0.69342 | Acc:48.75 | Test_loss:0.69322,test acc: 51.00\n",
            "Epoch : 100 | loss: 0.69341 | Acc:48.75 | Test_loss:0.69322,test acc: 50.50\n",
            "Epoch : 100 | loss: 0.69341 | Acc:48.88 | Test_loss:0.69323,test acc: 50.50\n",
            "Epoch : 100 | loss: 0.69340 | Acc:48.75 | Test_loss:0.69323,test acc: 50.50\n",
            "Epoch : 100 | loss: 0.69340 | Acc:48.88 | Test_loss:0.69323,test acc: 50.50\n",
            "Epoch : 100 | loss: 0.69339 | Acc:49.00 | Test_loss:0.69324,test acc: 50.50\n",
            "Epoch : 100 | loss: 0.69339 | Acc:49.00 | Test_loss:0.69324,test acc: 50.50\n",
            "Epoch : 100 | loss: 0.69338 | Acc:49.00 | Test_loss:0.69324,test acc: 50.50\n",
            "Epoch : 100 | loss: 0.69338 | Acc:49.00 | Test_loss:0.69324,test acc: 51.00\n",
            "Epoch : 100 | loss: 0.69337 | Acc:48.75 | Test_loss:0.69325,test acc: 51.00\n",
            "Epoch : 100 | loss: 0.69337 | Acc:48.62 | Test_loss:0.69325,test acc: 51.00\n",
            "Epoch : 100 | loss: 0.69336 | Acc:48.50 | Test_loss:0.69325,test acc: 50.50\n",
            "Epoch : 100 | loss: 0.69336 | Acc:48.62 | Test_loss:0.69326,test acc: 51.00\n",
            "Epoch : 100 | loss: 0.69335 | Acc:49.00 | Test_loss:0.69326,test acc: 51.00\n",
            "Epoch : 100 | loss: 0.69335 | Acc:49.00 | Test_loss:0.69326,test acc: 50.50\n",
            "Epoch : 100 | loss: 0.69335 | Acc:49.12 | Test_loss:0.69327,test acc: 50.50\n",
            "Epoch : 100 | loss: 0.69334 | Acc:49.25 | Test_loss:0.69327,test acc: 50.00\n",
            "Epoch : 100 | loss: 0.69334 | Acc:49.12 | Test_loss:0.69327,test acc: 50.50\n",
            "Epoch : 100 | loss: 0.69333 | Acc:49.25 | Test_loss:0.69328,test acc: 49.50\n",
            "Epoch : 100 | loss: 0.69333 | Acc:49.00 | Test_loss:0.69328,test acc: 49.50\n",
            "Epoch : 100 | loss: 0.69333 | Acc:49.00 | Test_loss:0.69328,test acc: 49.50\n",
            "Epoch : 100 | loss: 0.69332 | Acc:48.75 | Test_loss:0.69329,test acc: 50.00\n",
            "Epoch : 100 | loss: 0.69332 | Acc:48.88 | Test_loss:0.69329,test acc: 50.00\n",
            "Epoch : 100 | loss: 0.69331 | Acc:48.75 | Test_loss:0.69329,test acc: 49.50\n",
            "Epoch : 100 | loss: 0.69331 | Acc:48.75 | Test_loss:0.69330,test acc: 49.50\n",
            "Epoch : 100 | loss: 0.69331 | Acc:48.75 | Test_loss:0.69330,test acc: 49.50\n",
            "Epoch : 100 | loss: 0.69330 | Acc:48.62 | Test_loss:0.69330,test acc: 49.50\n",
            "Epoch : 100 | loss: 0.69330 | Acc:48.50 | Test_loss:0.69331,test acc: 48.00\n",
            "Epoch : 100 | loss: 0.69330 | Acc:48.75 | Test_loss:0.69331,test acc: 47.50\n",
            "Epoch : 100 | loss: 0.69329 | Acc:48.88 | Test_loss:0.69331,test acc: 48.00\n",
            "Epoch : 100 | loss: 0.69329 | Acc:49.12 | Test_loss:0.69332,test acc: 48.00\n",
            "Epoch : 100 | loss: 0.69329 | Acc:49.00 | Test_loss:0.69332,test acc: 48.50\n",
            "Epoch : 100 | loss: 0.69328 | Acc:48.88 | Test_loss:0.69332,test acc: 48.00\n",
            "Epoch : 100 | loss: 0.69328 | Acc:49.00 | Test_loss:0.69333,test acc: 48.00\n",
            "Epoch : 100 | loss: 0.69328 | Acc:49.25 | Test_loss:0.69333,test acc: 48.00\n",
            "Epoch : 100 | loss: 0.69327 | Acc:49.38 | Test_loss:0.69333,test acc: 48.50\n",
            "Epoch : 100 | loss: 0.69327 | Acc:49.25 | Test_loss:0.69334,test acc: 48.50\n",
            "Epoch : 100 | loss: 0.69327 | Acc:49.25 | Test_loss:0.69334,test acc: 49.00\n",
            "Epoch : 100 | loss: 0.69327 | Acc:49.38 | Test_loss:0.69334,test acc: 49.00\n",
            "Epoch : 100 | loss: 0.69326 | Acc:49.38 | Test_loss:0.69334,test acc: 49.00\n",
            "Epoch : 100 | loss: 0.69326 | Acc:49.38 | Test_loss:0.69335,test acc: 48.50\n"
          ]
        }
      ]
    },
    {
      "cell_type": "markdown",
      "source": [
        "## 4. Importving a model(from a model perspective)\n",
        "\n",
        "* add more layers\n",
        "* add more hidden units\n",
        "* fit for longer - more Epoch \n",
        "* Changing the activation functions\n",
        "* change the learning rate\n",
        "\n",
        "these options are all from a model's perspective becaues they deal directly with the model, rather than data. "
      ],
      "metadata": {
        "id": "Cf7qJr_BzssJ"
      }
    },
    {
      "cell_type": "markdown",
      "source": [
        "# PyTorch computer vision"
      ],
      "metadata": {
        "id": "PlJTBTk-bp4H"
      }
    },
    {
      "cell_type": "markdown",
      "source": [
        "## 0. Computer vision libaries in PyTorch \n",
        "* `torchvision` - base domain library for PyTorch computer vision\n",
        "* `torchvision` - get datasets and data loading functions for computer vision here\n",
        "* `torch.models` - get pretrianed computer vision models that you can leverage for your own problems\n",
        "* `torchvision.transforms` - functions for manipulating your vision data (images)\n",
        "to be suitable for use with an ML model.\n",
        "\n",
        "* `torch.utils.data.Dataset` - Base dataset class for PyTorch.\n",
        "\n",
        "* `torch.utils.data.DataLoader` -Creates a Python iterable over a dataset"
      ],
      "metadata": {
        "id": "W5558kVRueND"
      }
    },
    {
      "cell_type": "code",
      "source": [
        "import torch\n",
        "from torch import nn\n",
        "import torchvision\n",
        "from torchvision import datasets,transforms\n",
        "from torchvision.transforms import ToTensor\n",
        "import matplotlib.pyplot as plt\n",
        "import numpy as np"
      ],
      "metadata": {
        "id": "Nww9sOD1vYl-"
      },
      "execution_count": null,
      "outputs": []
    },
    {
      "cell_type": "markdown",
      "source": [
        "## 1.Getting a dataset\n",
        "the dataset we'll Fashion MNIST from torchvision.datasets "
      ],
      "metadata": {
        "id": "GJCTDQpyxOZf"
      }
    },
    {
      "cell_type": "code",
      "source": [
        "train_data = datasets.FashionMNIST(\n",
        "    root='.', \n",
        "    train=True,\n",
        "    download=True,\n",
        "    transform = ToTensor()\n",
        ")\n",
        "test_data = datasets.FashionMNIST(\n",
        "    root='.',\n",
        "    train=False,\n",
        "    download=True,\n",
        "    transform = ToTensor()\n",
        ")"
      ],
      "metadata": {
        "id": "o9EnObWaKWQi"
      },
      "execution_count": null,
      "outputs": []
    },
    {
      "cell_type": "code",
      "source": [
        "len(train_data),len(test_data)"
      ],
      "metadata": {
        "colab": {
          "base_uri": "https://localhost:8080/"
        },
        "id": "UMiWrCjyLSd1",
        "outputId": "766d3b03-c692-4cf4-9eed-1fb9569888b8"
      },
      "execution_count": null,
      "outputs": [
        {
          "output_type": "execute_result",
          "data": {
            "text/plain": [
              "(60000, 10000)"
            ]
          },
          "metadata": {},
          "execution_count": 7
        }
      ]
    },
    {
      "cell_type": "code",
      "source": [
        "class_names = train_data.classes\n",
        "class_names"
      ],
      "metadata": {
        "colab": {
          "base_uri": "https://localhost:8080/"
        },
        "id": "xuziWHUXLvzW",
        "outputId": "a040d4cd-a9f7-4003-ce69-7cc5800b2b25"
      },
      "execution_count": null,
      "outputs": [
        {
          "output_type": "execute_result",
          "data": {
            "text/plain": [
              "['T-shirt/top',\n",
              " 'Trouser',\n",
              " 'Pullover',\n",
              " 'Dress',\n",
              " 'Coat',\n",
              " 'Sandal',\n",
              " 'Shirt',\n",
              " 'Sneaker',\n",
              " 'Bag',\n",
              " 'Ankle boot']"
            ]
          },
          "metadata": {},
          "execution_count": 8
        }
      ]
    },
    {
      "cell_type": "code",
      "source": [
        "train_data.class_to_idx"
      ],
      "metadata": {
        "colab": {
          "base_uri": "https://localhost:8080/"
        },
        "id": "W_at1rHWL0-D",
        "outputId": "cdadbdc3-daff-406f-dd4b-145a4c818c09"
      },
      "execution_count": null,
      "outputs": [
        {
          "output_type": "execute_result",
          "data": {
            "text/plain": [
              "{'T-shirt/top': 0,\n",
              " 'Trouser': 1,\n",
              " 'Pullover': 2,\n",
              " 'Dress': 3,\n",
              " 'Coat': 4,\n",
              " 'Sandal': 5,\n",
              " 'Shirt': 6,\n",
              " 'Sneaker': 7,\n",
              " 'Bag': 8,\n",
              " 'Ankle boot': 9}"
            ]
          },
          "metadata": {},
          "execution_count": 9
        }
      ]
    },
    {
      "cell_type": "code",
      "source": [
        "train_data.data[0].shape"
      ],
      "metadata": {
        "colab": {
          "base_uri": "https://localhost:8080/"
        },
        "id": "peABaufUMlb8",
        "outputId": "3427db9b-76a8-4b26-d650-4b97bc825f6f"
      },
      "execution_count": null,
      "outputs": [
        {
          "output_type": "execute_result",
          "data": {
            "text/plain": [
              "torch.Size([28, 28])"
            ]
          },
          "metadata": {},
          "execution_count": 10
        }
      ]
    },
    {
      "cell_type": "code",
      "source": [
        "a=plt.imshow(train_data.data[1],cmap='gray')\n",
        "plt.title(f'test {class_names[train_data.targets[1]]}')\n",
        "plt.axis(False)\n",
        "plt.show()"
      ],
      "metadata": {
        "colab": {
          "base_uri": "https://localhost:8080/",
          "height": 264
        },
        "id": "l9bmthPuMqRH",
        "outputId": "a4511edc-c9b5-40d0-87f5-2f14a21ef51c"
      },
      "execution_count": null,
      "outputs": [
        {
          "output_type": "display_data",
          "data": {
            "text/plain": [
              "<Figure size 432x288 with 1 Axes>"
            ],
            "image/png": "[encoded data removed]"
          },
          "metadata": {
            "needs_background": "light"
          }
        }
      ]
    },
    {
      "cell_type": "code",
      "source": [
        "torch.manual_seed(42)\n",
        "fig = plt.figure(figsize=(9,9))\n",
        "rows, cols = 4,4\n",
        "for i in range(1,rows*cols+1):\n",
        "  random_idx=torch.randint(0,len(train_data),size=[1]).item()\n",
        "  img, label = train_data[random_idx]\n",
        "  fig.add_subplot(rows,cols,i)\n",
        "  plt.imshow(img.squeeze(),cmap='gray')\n",
        "  plt.title(f'label:{class_names[label]}')\n",
        "  plt.axis(False)\n",
        "plt.show()"
      ],
      "metadata": {
        "colab": {
          "base_uri": "https://localhost:8080/",
          "height": 536
        },
        "id": "EJ04e8mAPgHN",
        "outputId": "d0f838b6-f195-48df-b67f-0e5cd5fbb198"
      },
      "execution_count": null,
      "outputs": [
        {
          "output_type": "display_data",
          "data": {
            "text/plain": [
              "<Figure size 648x648 with 16 Axes>"
            ],
            "image/png": "[encoded data removed]"
          },
          "metadata": {
            "needs_background": "light"
          }
        }
      ]
    },
    {
      "cell_type": "markdown",
      "source": [
        " ## 2.prepare DataLoader"
      ],
      "metadata": {
        "id": "MyPPJ8-JTu28"
      }
    },
    {
      "cell_type": "code",
      "source": [
        "train_dataLoader = torch.utils.data.DataLoader(\n",
        "    train_data,\n",
        "    shuffle=True,\n",
        "    batch_size =32 \n",
        ")\n",
        "test_dataLoader = torch.utils.data.DataLoader(\n",
        "    test_data,\n",
        "    shuffle=False,\n",
        "    batch_size =32 \n",
        ")"
      ],
      "metadata": {
        "id": "0hHbfkE-cctf"
      },
      "execution_count": null,
      "outputs": []
    },
    {
      "cell_type": "code",
      "source": [
        "class FashionMNISTmodelV0(nn.Module):\n",
        "  def __init__(self,input_shape:int,hidden_units:int,output_shape:int):\n",
        "    self.input_shape=input_shape\n",
        "    self.hidden_units=hidden_units\n",
        "    self.output_shape=output_shape\n",
        "    super().__init__()\n",
        "    self.layer_stack = nn.Sequential(\n",
        "        nn.Flatten(),\n",
        "        nn.Linear(self.input_shape,self.hidden_units),\n",
        "        nn.Linear(self.hidden_units,self.output_shape)\n",
        "    )\n",
        "  def forward(self,x):\n",
        "    return self.layer_stack(x)"
      ],
      "metadata": {
        "id": "XD4tyuYGcbsI"
      },
      "execution_count": null,
      "outputs": []
    },
    {
      "cell_type": "code",
      "source": [
        "torch.manual_seed(42) \n",
        "model_0 = FashionMNISTmodelV0(784,10,len(class_names)).to('cpu')"
      ],
      "metadata": {
        "id": "XwiWq_K2ORBl"
      },
      "execution_count": null,
      "outputs": []
    },
    {
      "cell_type": "code",
      "source": [
        "import requests\n",
        "from pathlib import Path\n",
        "data = requests.get('https://raw.githubusercontent.com/mrdbourke/pytorch-deep-learning/main/helper_functions.py')           \n",
        "with open(\"helper_functinon.py\",'wb') as f:\n",
        "  f.write(data.content)"
      ],
      "metadata": {
        "id": "FgCPUdPFRFy3"
      },
      "execution_count": null,
      "outputs": []
    },
    {
      "cell_type": "code",
      "source": [
        "from helper_functinon import accuracy_fn"
      ],
      "metadata": {
        "id": "9U0YsdddS8rU"
      },
      "execution_count": null,
      "outputs": []
    },
    {
      "cell_type": "code",
      "source": [
        "Loss_fn = nn.CrossEntropyLoss()\n",
        "optimizer = torch.optim.SGD(params=model_0.parameters(),lr=0.1)"
      ],
      "metadata": {
        "id": "a-e5MxjZO028"
      },
      "execution_count": null,
      "outputs": []
    },
    {
      "cell_type": "markdown",
      "source": [
        "## Creating a function to time our experiments"
      ],
      "metadata": {
        "id": "r46MZo9ZVDAR"
      }
    },
    {
      "cell_type": "code",
      "source": [
        "from timeit import default_timer as timer \n",
        "def print_train_time(start:float,end:float,device:torch.device=None):\n",
        "  total_time = end-start\n",
        "  print(f'Train time on {device}:{total_time:.3f} seconds')\n",
        "  return total_time"
      ],
      "metadata": {
        "id": "129CXxjnVIsO"
      },
      "execution_count": null,
      "outputs": []
    },
    {
      "cell_type": "markdown",
      "source": [
        "## Creating a training loop"
      ],
      "metadata": {
        "id": "X9Ynr3nbVqDi"
      }
    },
    {
      "cell_type": "code",
      "source": [
        "from tqdm.auto import tqdm\n",
        "\n",
        "torch.manual_seed(42)\n",
        "train_time_start_on_cpu=timer()\n",
        "\n",
        "n_epochs = 3 \n",
        "train_losses=[]\n",
        "test_losses=[]\n",
        "print(\"TOTAL MODEL\")\n",
        "for i in tqdm(range(n_epochs)):\n",
        "  print(f\"Epoch: {i+1}\\n-----\")\n",
        "  train_loss=[]\n",
        "  for input,target in tqdm(train_dataLoader):\n",
        "    model_0.train()\n",
        "    optimizer.zero_grad()\n",
        "    output=model_0(input)\n",
        "    loss = Loss_fn(output,target)\n",
        "    loss.backward()\n",
        "    optimizer.step()\n",
        "    train_loss.append(loss.item())\n",
        "  train_losses.append(np.mean(train_loss))\n",
        "  test_loss=[]\n",
        "  model_0.eval()\n",
        "  with torch.inference_mode():\n",
        "    for input_test,target_test in test_dataLoader:\n",
        "      test_output = model_0(input_test)\n",
        "      test_loss.append(Loss_fn(test_output,target_test).item())\n",
        "    test_losses.append(np.mean(test_loss))\n",
        "\n",
        "  print(f\"\\nTrain Loss : {train_losses[i]:.4f} | Test Loss:{test_losses[i]:.4f}\")\n",
        "\n",
        "train_time_end_on_cpu=timer()\n",
        "first_model_time = print_train_time(train_time_start_on_cpu,train_time_end_on_cpu,str(next(model_0.parameters()).device))"
      ],
      "metadata": {
        "colab": {
          "base_uri": "https://localhost:8080/",
          "height": 336,
          "referenced_widgets": [
            "9b7e7ef314ac4ebcbf2013a4405f0d7f",
            "6482e1ce7cf34b67bd3dda24fc511ee1",
            "1a42dbd274f84e40922e0eec7c81eee5",
            "785528d6f07246a1be11fd337ce722dc",
            "6195b841f5f64b219e320a22e58bab07",
            "666187a331944ee7bf6aad892df3a717",
            "93c63a315c3f4c0493a4d90327042a3d",
            "8fc3c1eab47e4f61ac80520630a7c65c",
            "3f83aec62ea647639d40ca6611733094",
            "b81bf8e4be7b451aad282d3815a711f9",
            "e7ff5880ba47474daf97b9203bf51473",
            "72f0762b64a94241a0843f90b5d19d82",
            "0c4f33600d4247f08e1731ae6d278ae1",
            "0bd7a9f9e950458a9e99317e2c59163e",
            "abb55d3c8ac64233a10a6ab15dec9d98",
            "a2d54e4599154dcba7ca49537de9eefd",
            "659c684af2a54663aa632d49554cc38e",
            "03e26b47a67041bdb4c41d2d4d6af227",
            "32edf1e1549b41e9ac4762db0c233798",
            "bdf1685f08ba4d9d9e7f0ace1e5dd9bb",
            "e3ab87df4c974a62b37fc552c60bc426",
            "056a071a8ca548c6b6b56a2cc5e38f72",
            "416cfea390244067b1c50730831c0385",
            "9903f50763a648138048effadd2fbbaf",
            "7b1c2253b15243bbbb5117bbc2b6ae3e",
            "ded340763d824d8cacdc757ab5661175",
            "8152640f1b524742a46f18e57198a74e",
            "b7e6f61f7a74493e9c39502bb706d8ae",
            "91281d3ecadf4503b814e14cc1c33139",
            "91f92e18b1ec48b2a940312ea791bb40",
            "cd3289b3420f443aa3a45cc9e847163a",
            "d43a83eee1dd45d09b94794a42171e33",
            "ccae660b77d24896bf4a6376d88f166c",
            "0561ed99e32443aa9a332d2533c80e7a",
            "e4734d05dbae48f89480f1b5bd15b559",
            "82126d0982d44b068bb9e627ea64d80e",
            "e2ca8df766874057ad873cdf457f5f40",
            "64a89be4c9eb4691934e543920109e0b",
            "39fb15ccd63945b38d38eb94b5187839",
            "a4aa385a3a1a40a4a388cfa71142f196",
            "3ba582337a154fe0bda4c8607687b2f2",
            "40a3626df0b9486a93f0ddee22a22f4f",
            "93315394e2b94c6d94c87bcb5c719712",
            "6799a76681934b4c9f48ce106b777d9a"
          ]
        },
        "id": "GrfDsM7kVhaM",
        "outputId": "ee7be21e-f44d-44be-e6b8-99089323d00f"
      },
      "execution_count": null,
      "outputs": [
        {
          "output_type": "stream",
          "name": "stdout",
          "text": [
            "TOTAL MODEL\n"
          ]
        },
        {
          "output_type": "display_data",
          "data": {
            "text/plain": [
              "  0%|          | 0/3 [00:00<?, ?it/s]"
            ],
            "application/vnd.jupyter.widget-view+json": {
              "version_major": 2,
              "version_minor": 0,
              "model_id": "9b7e7ef314ac4ebcbf2013a4405f0d7f"
            }
          },
          "metadata": {}
        },
        {
          "output_type": "stream",
          "name": "stdout",
          "text": [
            "Epoch: 1\n",
            "-----\n"
          ]
        },
        {
          "output_type": "display_data",
          "data": {
            "text/plain": [
              "  0%|          | 0/1875 [00:00<?, ?it/s]"
            ],
            "application/vnd.jupyter.widget-view+json": {
              "version_major": 2,
              "version_minor": 0,
              "model_id": "72f0762b64a94241a0843f90b5d19d82"
            }
          },
          "metadata": {}
        },
        {
          "output_type": "stream",
          "name": "stdout",
          "text": [
            "\n",
            "Train Loss : 0.4254 | Test Loss:0.4947\n",
            "Epoch: 2\n",
            "-----\n"
          ]
        },
        {
          "output_type": "display_data",
          "data": {
            "text/plain": [
              "  0%|          | 0/1875 [00:00<?, ?it/s]"
            ],
            "application/vnd.jupyter.widget-view+json": {
              "version_major": 2,
              "version_minor": 0,
              "model_id": "416cfea390244067b1c50730831c0385"
            }
          },
          "metadata": {}
        },
        {
          "output_type": "stream",
          "name": "stdout",
          "text": [
            "\n",
            "Train Loss : 0.4224 | Test Loss:0.4676\n",
            "Epoch: 3\n",
            "-----\n"
          ]
        },
        {
          "output_type": "display_data",
          "data": {
            "text/plain": [
              "  0%|          | 0/1875 [00:00<?, ?it/s]"
            ],
            "application/vnd.jupyter.widget-view+json": {
              "version_major": 2,
              "version_minor": 0,
              "model_id": "0561ed99e32443aa9a332d2533c80e7a"
            }
          },
          "metadata": {}
        }
      ]
    },
    {
      "cell_type": "code",
      "source": [],
      "metadata": {
        "id": "FazD1ErVhdAU"
      },
      "execution_count": null,
      "outputs": []
    }
  ],
  "metadata": {
    "colab": {
      "provenance": [],
      "collapsed_sections": [
        "XEd7PhX8-RmY",
        "L18kLDTlmJRx",
        "0kX0vBOtxfYU",
        "1J47ARKu0kvK",
        "zpRIbEnF7QJs",
        "D0oXl8J3MA39",
        "nHgPQCS1A0Wg",
        "-Vj-4uaSCdq1",
        "2YNPM2-1gqLs",
        "JflxIRFmytU0",
        "LcdkyTwmztoT",
        "vG6Gv9uR20Js",
        "OgtrSuKV3ct1",
        "YrC0AK2M5152",
        "HC050_Ej7QkN",
        "yRal4RNG8aXj",
        "DM87d24t9NVP",
        "lZJ2i-FMeXJA",
        "qhrfem6GNqvk",
        "u_kRYFCaQNpN",
        "H1cyDqTEV9w7",
        "M1pnyPphf5vZ",
        "P5HOKCRKifZe",
        "UNCHg3LslUuO",
        "-GzJ3jnXkKw7",
        "SbLbB4Fnn4sU",
        "D1fYc4LTsxbu",
        "EM6SKbNEwAg7",
        "MfFHpDhoxM6i",
        "wZqXh8IF0TXy",
        "Kt4NCzdr1w2X",
        "D8NMxIiIyUar",
        "vjGAjMPY1pAx",
        "_fjbuLCHtj3S"
      ],
      "toc_visible": true
    },
    "gpuClass": "standard",
    "kernelspec": {
      "display_name": "Python 3",
      "name": "python3"
    },
    "language_info": {
      "name": "python"
    },
    "widgets": {
      "application/vnd.jupyter.widget-state+json": {
        "9b7e7ef314ac4ebcbf2013a4405f0d7f": {
          "model_module": "@jupyter-widgets/controls",
          "model_name": "HBoxModel",
          "model_module_version": "1.5.0",
          "state": {
            "_dom_classes": [],
            "_model_module": "@jupyter-widgets/controls",
            "_model_module_version": "1.5.0",
            "_model_name": "HBoxModel",
            "_view_count": null,
            "_view_module": "@jupyter-widgets/controls",
            "_view_module_version": "1.5.0",
            "_view_name": "HBoxView",
            "box_style": "",
            "children": [
              "IPY_MODEL_6482e1ce7cf34b67bd3dda24fc511ee1",
              "IPY_MODEL_1a42dbd274f84e40922e0eec7c81eee5",
              "IPY_MODEL_785528d6f07246a1be11fd337ce722dc"
            ],
            "layout": "IPY_MODEL_6195b841f5f64b219e320a22e58bab07"
          }
        },
        "6482e1ce7cf34b67bd3dda24fc511ee1": {
          "model_module": "@jupyter-widgets/controls",
          "model_name": "HTMLModel",
          "model_module_version": "1.5.0",
          "state": {
            "_dom_classes": [],
            "_model_module": "@jupyter-widgets/controls",
            "_model_module_version": "1.5.0",
            "_model_name": "HTMLModel",
            "_view_count": null,
            "_view_module": "@jupyter-widgets/controls",
            "_view_module_version": "1.5.0",
            "_view_name": "HTMLView",
            "description": "",
            "description_tooltip": null,
            "layout": "IPY_MODEL_666187a331944ee7bf6aad892df3a717",
            "placeholder": "​",
            "style": "IPY_MODEL_93c63a315c3f4c0493a4d90327042a3d",
            "value": " 67%"
          }
        },
        "1a42dbd274f84e40922e0eec7c81eee5": {
          "model_module": "@jupyter-widgets/controls",
          "model_name": "FloatProgressModel",
          "model_module_version": "1.5.0",
          "state": {
            "_dom_classes": [],
            "_model_module": "@jupyter-widgets/controls",
            "_model_module_version": "1.5.0",
            "_model_name": "FloatProgressModel",
            "_view_count": null,
            "_view_module": "@jupyter-widgets/controls",
            "_view_module_version": "1.5.0",
            "_view_name": "ProgressView",
            "bar_style": "",
            "description": "",
            "description_tooltip": null,
            "layout": "IPY_MODEL_8fc3c1eab47e4f61ac80520630a7c65c",
            "max": 3,
            "min": 0,
            "orientation": "horizontal",
            "style": "IPY_MODEL_3f83aec62ea647639d40ca6611733094",
            "value": 2
          }
        },
        "785528d6f07246a1be11fd337ce722dc": {
          "model_module": "@jupyter-widgets/controls",
          "model_name": "HTMLModel",
          "model_module_version": "1.5.0",
          "state": {
            "_dom_classes": [],
            "_model_module": "@jupyter-widgets/controls",
            "_model_module_version": "1.5.0",
            "_model_name": "HTMLModel",
            "_view_count": null,
            "_view_module": "@jupyter-widgets/controls",
            "_view_module_version": "1.5.0",
            "_view_name": "HTMLView",
            "description": "",
            "description_tooltip": null,
            "layout": "IPY_MODEL_b81bf8e4be7b451aad282d3815a711f9",
            "placeholder": "​",
            "style": "IPY_MODEL_e7ff5880ba47474daf97b9203bf51473",
            "value": " 2/3 [00:28&lt;00:14, 14.44s/it]"
          }
        },
        "6195b841f5f64b219e320a22e58bab07": {
          "model_module": "@jupyter-widgets/base",
          "model_name": "LayoutModel",
          "model_module_version": "1.2.0",
          "state": {
            "_model_module": "@jupyter-widgets/base",
            "_model_module_version": "1.2.0",
            "_model_name": "LayoutModel",
            "_view_count": null,
            "_view_module": "@jupyter-widgets/base",
            "_view_module_version": "1.2.0",
            "_view_name": "LayoutView",
            "align_content": null,
            "align_items": null,
            "align_self": null,
            "border": null,
            "bottom": null,
            "display": null,
            "flex": null,
            "flex_flow": null,
            "grid_area": null,
            "grid_auto_columns": null,
            "grid_auto_flow": null,
            "grid_auto_rows": null,
            "grid_column": null,
            "grid_gap": null,
            "grid_row": null,
            "grid_template_areas": null,
            "grid_template_columns": null,
            "grid_template_rows": null,
            "height": null,
            "justify_content": null,
            "justify_items": null,
            "left": null,
            "margin": null,
            "max_height": null,
            "max_width": null,
            "min_height": null,
            "min_width": null,
            "object_fit": null,
            "object_position": null,
            "order": null,
            "overflow": null,
            "overflow_x": null,
            "overflow_y": null,
            "padding": null,
            "right": null,
            "top": null,
            "visibility": null,
            "width": null
          }
        },
        "666187a331944ee7bf6aad892df3a717": {
          "model_module": "@jupyter-widgets/base",
          "model_name": "LayoutModel",
          "model_module_version": "1.2.0",
          "state": {
            "_model_module": "@jupyter-widgets/base",
            "_model_module_version": "1.2.0",
            "_model_name": "LayoutModel",
            "_view_count": null,
            "_view_module": "@jupyter-widgets/base",
            "_view_module_version": "1.2.0",
            "_view_name": "LayoutView",
            "align_content": null,
            "align_items": null,
            "align_self": null,
            "border": null,
            "bottom": null,
            "display": null,
            "flex": null,
            "flex_flow": null,
            "grid_area": null,
            "grid_auto_columns": null,
            "grid_auto_flow": null,
            "grid_auto_rows": null,
            "grid_column": null,
            "grid_gap": null,
            "grid_row": null,
            "grid_template_areas": null,
            "grid_template_columns": null,
            "grid_template_rows": null,
            "height": null,
            "justify_content": null,
            "justify_items": null,
            "left": null,
            "margin": null,
            "max_height": null,
            "max_width": null,
            "min_height": null,
            "min_width": null,
            "object_fit": null,
            "object_position": null,
            "order": null,
            "overflow": null,
            "overflow_x": null,
            "overflow_y": null,
            "padding": null,
            "right": null,
            "top": null,
            "visibility": null,
            "width": null
          }
        },
        "93c63a315c3f4c0493a4d90327042a3d": {
          "model_module": "@jupyter-widgets/controls",
          "model_name": "DescriptionStyleModel",
          "model_module_version": "1.5.0",
          "state": {
            "_model_module": "@jupyter-widgets/controls",
            "_model_module_version": "1.5.0",
            "_model_name": "DescriptionStyleModel",
            "_view_count": null,
            "_view_module": "@jupyter-widgets/base",
            "_view_module_version": "1.2.0",
            "_view_name": "StyleView",
            "description_width": ""
          }
        },
        "8fc3c1eab47e4f61ac80520630a7c65c": {
          "model_module": "@jupyter-widgets/base",
          "model_name": "LayoutModel",
          "model_module_version": "1.2.0",
          "state": {
            "_model_module": "@jupyter-widgets/base",
            "_model_module_version": "1.2.0",
            "_model_name": "LayoutModel",
            "_view_count": null,
            "_view_module": "@jupyter-widgets/base",
            "_view_module_version": "1.2.0",
            "_view_name": "LayoutView",
            "align_content": null,
            "align_items": null,
            "align_self": null,
            "border": null,
            "bottom": null,
            "display": null,
            "flex": null,
            "flex_flow": null,
            "grid_area": null,
            "grid_auto_columns": null,
            "grid_auto_flow": null,
            "grid_auto_rows": null,
            "grid_column": null,
            "grid_gap": null,
            "grid_row": null,
            "grid_template_areas": null,
            "grid_template_columns": null,
            "grid_template_rows": null,
            "height": null,
            "justify_content": null,
            "justify_items": null,
            "left": null,
            "margin": null,
            "max_height": null,
            "max_width": null,
            "min_height": null,
            "min_width": null,
            "object_fit": null,
            "object_position": null,
            "order": null,
            "overflow": null,
            "overflow_x": null,
            "overflow_y": null,
            "padding": null,
            "right": null,
            "top": null,
            "visibility": null,
            "width": null
          }
        },
        "3f83aec62ea647639d40ca6611733094": {
          "model_module": "@jupyter-widgets/controls",
          "model_name": "ProgressStyleModel",
          "model_module_version": "1.5.0",
          "state": {
            "_model_module": "@jupyter-widgets/controls",
            "_model_module_version": "1.5.0",
            "_model_name": "ProgressStyleModel",
            "_view_count": null,
            "_view_module": "@jupyter-widgets/base",
            "_view_module_version": "1.2.0",
            "_view_name": "StyleView",
            "bar_color": null,
            "description_width": ""
          }
        },
        "b81bf8e4be7b451aad282d3815a711f9": {
          "model_module": "@jupyter-widgets/base",
          "model_name": "LayoutModel",
          "model_module_version": "1.2.0",
          "state": {
            "_model_module": "@jupyter-widgets/base",
            "_model_module_version": "1.2.0",
            "_model_name": "LayoutModel",
            "_view_count": null,
            "_view_module": "@jupyter-widgets/base",
            "_view_module_version": "1.2.0",
            "_view_name": "LayoutView",
            "align_content": null,
            "align_items": null,
            "align_self": null,
            "border": null,
            "bottom": null,
            "display": null,
            "flex": null,
            "flex_flow": null,
            "grid_area": null,
            "grid_auto_columns": null,
            "grid_auto_flow": null,
            "grid_auto_rows": null,
            "grid_column": null,
            "grid_gap": null,
            "grid_row": null,
            "grid_template_areas": null,
            "grid_template_columns": null,
            "grid_template_rows": null,
            "height": null,
            "justify_content": null,
            "justify_items": null,
            "left": null,
            "margin": null,
            "max_height": null,
            "max_width": null,
            "min_height": null,
            "min_width": null,
            "object_fit": null,
            "object_position": null,
            "order": null,
            "overflow": null,
            "overflow_x": null,
            "overflow_y": null,
            "padding": null,
            "right": null,
            "top": null,
            "visibility": null,
            "width": null
          }
        },
        "e7ff5880ba47474daf97b9203bf51473": {
          "model_module": "@jupyter-widgets/controls",
          "model_name": "DescriptionStyleModel",
          "model_module_version": "1.5.0",
          "state": {
            "_model_module": "@jupyter-widgets/controls",
            "_model_module_version": "1.5.0",
            "_model_name": "DescriptionStyleModel",
            "_view_count": null,
            "_view_module": "@jupyter-widgets/base",
            "_view_module_version": "1.2.0",
            "_view_name": "StyleView",
            "description_width": ""
          }
        },
        "72f0762b64a94241a0843f90b5d19d82": {
          "model_module": "@jupyter-widgets/controls",
          "model_name": "HBoxModel",
          "model_module_version": "1.5.0",
          "state": {
            "_dom_classes": [],
            "_model_module": "@jupyter-widgets/controls",
            "_model_module_version": "1.5.0",
            "_model_name": "HBoxModel",
            "_view_count": null,
            "_view_module": "@jupyter-widgets/controls",
            "_view_module_version": "1.5.0",
            "_view_name": "HBoxView",
            "box_style": "",
            "children": [
              "IPY_MODEL_0c4f33600d4247f08e1731ae6d278ae1",
              "IPY_MODEL_0bd7a9f9e950458a9e99317e2c59163e",
              "IPY_MODEL_abb55d3c8ac64233a10a6ab15dec9d98"
            ],
            "layout": "IPY_MODEL_a2d54e4599154dcba7ca49537de9eefd"
          }
        },
        "0c4f33600d4247f08e1731ae6d278ae1": {
          "model_module": "@jupyter-widgets/controls",
          "model_name": "HTMLModel",
          "model_module_version": "1.5.0",
          "state": {
            "_dom_classes": [],
            "_model_module": "@jupyter-widgets/controls",
            "_model_module_version": "1.5.0",
            "_model_name": "HTMLModel",
            "_view_count": null,
            "_view_module": "@jupyter-widgets/controls",
            "_view_module_version": "1.5.0",
            "_view_name": "HTMLView",
            "description": "",
            "description_tooltip": null,
            "layout": "IPY_MODEL_659c684af2a54663aa632d49554cc38e",
            "placeholder": "​",
            "style": "IPY_MODEL_03e26b47a67041bdb4c41d2d4d6af227",
            "value": "100%"
          }
        },
        "0bd7a9f9e950458a9e99317e2c59163e": {
          "model_module": "@jupyter-widgets/controls",
          "model_name": "FloatProgressModel",
          "model_module_version": "1.5.0",
          "state": {
            "_dom_classes": [],
            "_model_module": "@jupyter-widgets/controls",
            "_model_module_version": "1.5.0",
            "_model_name": "FloatProgressModel",
            "_view_count": null,
            "_view_module": "@jupyter-widgets/controls",
            "_view_module_version": "1.5.0",
            "_view_name": "ProgressView",
            "bar_style": "success",
            "description": "",
            "description_tooltip": null,
            "layout": "IPY_MODEL_32edf1e1549b41e9ac4762db0c233798",
            "max": 1875,
            "min": 0,
            "orientation": "horizontal",
            "style": "IPY_MODEL_bdf1685f08ba4d9d9e7f0ace1e5dd9bb",
            "value": 1875
          }
        },
        "abb55d3c8ac64233a10a6ab15dec9d98": {
          "model_module": "@jupyter-widgets/controls",
          "model_name": "HTMLModel",
          "model_module_version": "1.5.0",
          "state": {
            "_dom_classes": [],
            "_model_module": "@jupyter-widgets/controls",
            "_model_module_version": "1.5.0",
            "_model_name": "HTMLModel",
            "_view_count": null,
            "_view_module": "@jupyter-widgets/controls",
            "_view_module_version": "1.5.0",
            "_view_name": "HTMLView",
            "description": "",
            "description_tooltip": null,
            "layout": "IPY_MODEL_e3ab87df4c974a62b37fc552c60bc426",
            "placeholder": "​",
            "style": "IPY_MODEL_056a071a8ca548c6b6b56a2cc5e38f72",
            "value": " 1875/1875 [00:12&lt;00:00, 159.84it/s]"
          }
        },
        "a2d54e4599154dcba7ca49537de9eefd": {
          "model_module": "@jupyter-widgets/base",
          "model_name": "LayoutModel",
          "model_module_version": "1.2.0",
          "state": {
            "_model_module": "@jupyter-widgets/base",
            "_model_module_version": "1.2.0",
            "_model_name": "LayoutModel",
            "_view_count": null,
            "_view_module": "@jupyter-widgets/base",
            "_view_module_version": "1.2.0",
            "_view_name": "LayoutView",
            "align_content": null,
            "align_items": null,
            "align_self": null,
            "border": null,
            "bottom": null,
            "display": null,
            "flex": null,
            "flex_flow": null,
            "grid_area": null,
            "grid_auto_columns": null,
            "grid_auto_flow": null,
            "grid_auto_rows": null,
            "grid_column": null,
            "grid_gap": null,
            "grid_row": null,
            "grid_template_areas": null,
            "grid_template_columns": null,
            "grid_template_rows": null,
            "height": null,
            "justify_content": null,
            "justify_items": null,
            "left": null,
            "margin": null,
            "max_height": null,
            "max_width": null,
            "min_height": null,
            "min_width": null,
            "object_fit": null,
            "object_position": null,
            "order": null,
            "overflow": null,
            "overflow_x": null,
            "overflow_y": null,
            "padding": null,
            "right": null,
            "top": null,
            "visibility": null,
            "width": null
          }
        },
        "659c684af2a54663aa632d49554cc38e": {
          "model_module": "@jupyter-widgets/base",
          "model_name": "LayoutModel",
          "model_module_version": "1.2.0",
          "state": {
            "_model_module": "@jupyter-widgets/base",
            "_model_module_version": "1.2.0",
            "_model_name": "LayoutModel",
            "_view_count": null,
            "_view_module": "@jupyter-widgets/base",
            "_view_module_version": "1.2.0",
            "_view_name": "LayoutView",
            "align_content": null,
            "align_items": null,
            "align_self": null,
            "border": null,
            "bottom": null,
            "display": null,
            "flex": null,
            "flex_flow": null,
            "grid_area": null,
            "grid_auto_columns": null,
            "grid_auto_flow": null,
            "grid_auto_rows": null,
            "grid_column": null,
            "grid_gap": null,
            "grid_row": null,
            "grid_template_areas": null,
            "grid_template_columns": null,
            "grid_template_rows": null,
            "height": null,
            "justify_content": null,
            "justify_items": null,
            "left": null,
            "margin": null,
            "max_height": null,
            "max_width": null,
            "min_height": null,
            "min_width": null,
            "object_fit": null,
            "object_position": null,
            "order": null,
            "overflow": null,
            "overflow_x": null,
            "overflow_y": null,
            "padding": null,
            "right": null,
            "top": null,
            "visibility": null,
            "width": null
          }
        },
        "03e26b47a67041bdb4c41d2d4d6af227": {
          "model_module": "@jupyter-widgets/controls",
          "model_name": "DescriptionStyleModel",
          "model_module_version": "1.5.0",
          "state": {
            "_model_module": "@jupyter-widgets/controls",
            "_model_module_version": "1.5.0",
            "_model_name": "DescriptionStyleModel",
            "_view_count": null,
            "_view_module": "@jupyter-widgets/base",
            "_view_module_version": "1.2.0",
            "_view_name": "StyleView",
            "description_width": ""
          }
        },
        "32edf1e1549b41e9ac4762db0c233798": {
          "model_module": "@jupyter-widgets/base",
          "model_name": "LayoutModel",
          "model_module_version": "1.2.0",
          "state": {
            "_model_module": "@jupyter-widgets/base",
            "_model_module_version": "1.2.0",
            "_model_name": "LayoutModel",
            "_view_count": null,
            "_view_module": "@jupyter-widgets/base",
            "_view_module_version": "1.2.0",
            "_view_name": "LayoutView",
            "align_content": null,
            "align_items": null,
            "align_self": null,
            "border": null,
            "bottom": null,
            "display": null,
            "flex": null,
            "flex_flow": null,
            "grid_area": null,
            "grid_auto_columns": null,
            "grid_auto_flow": null,
            "grid_auto_rows": null,
            "grid_column": null,
            "grid_gap": null,
            "grid_row": null,
            "grid_template_areas": null,
            "grid_template_columns": null,
            "grid_template_rows": null,
            "height": null,
            "justify_content": null,
            "justify_items": null,
            "left": null,
            "margin": null,
            "max_height": null,
            "max_width": null,
            "min_height": null,
            "min_width": null,
            "object_fit": null,
            "object_position": null,
            "order": null,
            "overflow": null,
            "overflow_x": null,
            "overflow_y": null,
            "padding": null,
            "right": null,
            "top": null,
            "visibility": null,
            "width": null
          }
        },
        "bdf1685f08ba4d9d9e7f0ace1e5dd9bb": {
          "model_module": "@jupyter-widgets/controls",
          "model_name": "ProgressStyleModel",
          "model_module_version": "1.5.0",
          "state": {
            "_model_module": "@jupyter-widgets/controls",
            "_model_module_version": "1.5.0",
            "_model_name": "ProgressStyleModel",
            "_view_count": null,
            "_view_module": "@jupyter-widgets/base",
            "_view_module_version": "1.2.0",
            "_view_name": "StyleView",
            "bar_color": null,
            "description_width": ""
          }
        },
        "e3ab87df4c974a62b37fc552c60bc426": {
          "model_module": "@jupyter-widgets/base",
          "model_name": "LayoutModel",
          "model_module_version": "1.2.0",
          "state": {
            "_model_module": "@jupyter-widgets/base",
            "_model_module_version": "1.2.0",
            "_model_name": "LayoutModel",
            "_view_count": null,
            "_view_module": "@jupyter-widgets/base",
            "_view_module_version": "1.2.0",
            "_view_name": "LayoutView",
            "align_content": null,
            "align_items": null,
            "align_self": null,
            "border": null,
            "bottom": null,
            "display": null,
            "flex": null,
            "flex_flow": null,
            "grid_area": null,
            "grid_auto_columns": null,
            "grid_auto_flow": null,
            "grid_auto_rows": null,
            "grid_column": null,
            "grid_gap": null,
            "grid_row": null,
            "grid_template_areas": null,
            "grid_template_columns": null,
            "grid_template_rows": null,
            "height": null,
            "justify_content": null,
            "justify_items": null,
            "left": null,
            "margin": null,
            "max_height": null,
            "max_width": null,
            "min_height": null,
            "min_width": null,
            "object_fit": null,
            "object_position": null,
            "order": null,
            "overflow": null,
            "overflow_x": null,
            "overflow_y": null,
            "padding": null,
            "right": null,
            "top": null,
            "visibility": null,
            "width": null
          }
        },
        "056a071a8ca548c6b6b56a2cc5e38f72": {
          "model_module": "@jupyter-widgets/controls",
          "model_name": "DescriptionStyleModel",
          "model_module_version": "1.5.0",
          "state": {
            "_model_module": "@jupyter-widgets/controls",
            "_model_module_version": "1.5.0",
            "_model_name": "DescriptionStyleModel",
            "_view_count": null,
            "_view_module": "@jupyter-widgets/base",
            "_view_module_version": "1.2.0",
            "_view_name": "StyleView",
            "description_width": ""
          }
        },
        "416cfea390244067b1c50730831c0385": {
          "model_module": "@jupyter-widgets/controls",
          "model_name": "HBoxModel",
          "model_module_version": "1.5.0",
          "state": {
            "_dom_classes": [],
            "_model_module": "@jupyter-widgets/controls",
            "_model_module_version": "1.5.0",
            "_model_name": "HBoxModel",
            "_view_count": null,
            "_view_module": "@jupyter-widgets/controls",
            "_view_module_version": "1.5.0",
            "_view_name": "HBoxView",
            "box_style": "",
            "children": [
              "IPY_MODEL_9903f50763a648138048effadd2fbbaf",
              "IPY_MODEL_7b1c2253b15243bbbb5117bbc2b6ae3e",
              "IPY_MODEL_ded340763d824d8cacdc757ab5661175"
            ],
            "layout": "IPY_MODEL_8152640f1b524742a46f18e57198a74e"
          }
        },
        "9903f50763a648138048effadd2fbbaf": {
          "model_module": "@jupyter-widgets/controls",
          "model_name": "HTMLModel",
          "model_module_version": "1.5.0",
          "state": {
            "_dom_classes": [],
            "_model_module": "@jupyter-widgets/controls",
            "_model_module_version": "1.5.0",
            "_model_name": "HTMLModel",
            "_view_count": null,
            "_view_module": "@jupyter-widgets/controls",
            "_view_module_version": "1.5.0",
            "_view_name": "HTMLView",
            "description": "",
            "description_tooltip": null,
            "layout": "IPY_MODEL_b7e6f61f7a74493e9c39502bb706d8ae",
            "placeholder": "​",
            "style": "IPY_MODEL_91281d3ecadf4503b814e14cc1c33139",
            "value": "100%"
          }
        },
        "7b1c2253b15243bbbb5117bbc2b6ae3e": {
          "model_module": "@jupyter-widgets/controls",
          "model_name": "FloatProgressModel",
          "model_module_version": "1.5.0",
          "state": {
            "_dom_classes": [],
            "_model_module": "@jupyter-widgets/controls",
            "_model_module_version": "1.5.0",
            "_model_name": "FloatProgressModel",
            "_view_count": null,
            "_view_module": "@jupyter-widgets/controls",
            "_view_module_version": "1.5.0",
            "_view_name": "ProgressView",
            "bar_style": "success",
            "description": "",
            "description_tooltip": null,
            "layout": "IPY_MODEL_91f92e18b1ec48b2a940312ea791bb40",
            "max": 1875,
            "min": 0,
            "orientation": "horizontal",
            "style": "IPY_MODEL_cd3289b3420f443aa3a45cc9e847163a",
            "value": 1875
          }
        },
        "ded340763d824d8cacdc757ab5661175": {
          "model_module": "@jupyter-widgets/controls",
          "model_name": "HTMLModel",
          "model_module_version": "1.5.0",
          "state": {
            "_dom_classes": [],
            "_model_module": "@jupyter-widgets/controls",
            "_model_module_version": "1.5.0",
            "_model_name": "HTMLModel",
            "_view_count": null,
            "_view_module": "@jupyter-widgets/controls",
            "_view_module_version": "1.5.0",
            "_view_name": "HTMLView",
            "description": "",
            "description_tooltip": null,
            "layout": "IPY_MODEL_d43a83eee1dd45d09b94794a42171e33",
            "placeholder": "​",
            "style": "IPY_MODEL_ccae660b77d24896bf4a6376d88f166c",
            "value": " 1875/1875 [00:12&lt;00:00, 132.59it/s]"
          }
        },
        "8152640f1b524742a46f18e57198a74e": {
          "model_module": "@jupyter-widgets/base",
          "model_name": "LayoutModel",
          "model_module_version": "1.2.0",
          "state": {
            "_model_module": "@jupyter-widgets/base",
            "_model_module_version": "1.2.0",
            "_model_name": "LayoutModel",
            "_view_count": null,
            "_view_module": "@jupyter-widgets/base",
            "_view_module_version": "1.2.0",
            "_view_name": "LayoutView",
            "align_content": null,
            "align_items": null,
            "align_self": null,
            "border": null,
            "bottom": null,
            "display": null,
            "flex": null,
            "flex_flow": null,
            "grid_area": null,
            "grid_auto_columns": null,
            "grid_auto_flow": null,
            "grid_auto_rows": null,
            "grid_column": null,
            "grid_gap": null,
            "grid_row": null,
            "grid_template_areas": null,
            "grid_template_columns": null,
            "grid_template_rows": null,
            "height": null,
            "justify_content": null,
            "justify_items": null,
            "left": null,
            "margin": null,
            "max_height": null,
            "max_width": null,
            "min_height": null,
            "min_width": null,
            "object_fit": null,
            "object_position": null,
            "order": null,
            "overflow": null,
            "overflow_x": null,
            "overflow_y": null,
            "padding": null,
            "right": null,
            "top": null,
            "visibility": null,
            "width": null
          }
        },
        "b7e6f61f7a74493e9c39502bb706d8ae": {
          "model_module": "@jupyter-widgets/base",
          "model_name": "LayoutModel",
          "model_module_version": "1.2.0",
          "state": {
            "_model_module": "@jupyter-widgets/base",
            "_model_module_version": "1.2.0",
            "_model_name": "LayoutModel",
            "_view_count": null,
            "_view_module": "@jupyter-widgets/base",
            "_view_module_version": "1.2.0",
            "_view_name": "LayoutView",
            "align_content": null,
            "align_items": null,
            "align_self": null,
            "border": null,
            "bottom": null,
            "display": null,
            "flex": null,
            "flex_flow": null,
            "grid_area": null,
            "grid_auto_columns": null,
            "grid_auto_flow": null,
            "grid_auto_rows": null,
            "grid_column": null,
            "grid_gap": null,
            "grid_row": null,
            "grid_template_areas": null,
            "grid_template_columns": null,
            "grid_template_rows": null,
            "height": null,
            "justify_content": null,
            "justify_items": null,
            "left": null,
            "margin": null,
            "max_height": null,
            "max_width": null,
            "min_height": null,
            "min_width": null,
            "object_fit": null,
            "object_position": null,
            "order": null,
            "overflow": null,
            "overflow_x": null,
            "overflow_y": null,
            "padding": null,
            "right": null,
            "top": null,
            "visibility": null,
            "width": null
          }
        },
        "91281d3ecadf4503b814e14cc1c33139": {
          "model_module": "@jupyter-widgets/controls",
          "model_name": "DescriptionStyleModel",
          "model_module_version": "1.5.0",
          "state": {
            "_model_module": "@jupyter-widgets/controls",
            "_model_module_version": "1.5.0",
            "_model_name": "DescriptionStyleModel",
            "_view_count": null,
            "_view_module": "@jupyter-widgets/base",
            "_view_module_version": "1.2.0",
            "_view_name": "StyleView",
            "description_width": ""
          }
        },
        "91f92e18b1ec48b2a940312ea791bb40": {
          "model_module": "@jupyter-widgets/base",
          "model_name": "LayoutModel",
          "model_module_version": "1.2.0",
          "state": {
            "_model_module": "@jupyter-widgets/base",
            "_model_module_version": "1.2.0",
            "_model_name": "LayoutModel",
            "_view_count": null,
            "_view_module": "@jupyter-widgets/base",
            "_view_module_version": "1.2.0",
            "_view_name": "LayoutView",
            "align_content": null,
            "align_items": null,
            "align_self": null,
            "border": null,
            "bottom": null,
            "display": null,
            "flex": null,
            "flex_flow": null,
            "grid_area": null,
            "grid_auto_columns": null,
            "grid_auto_flow": null,
            "grid_auto_rows": null,
            "grid_column": null,
            "grid_gap": null,
            "grid_row": null,
            "grid_template_areas": null,
            "grid_template_columns": null,
            "grid_template_rows": null,
            "height": null,
            "justify_content": null,
            "justify_items": null,
            "left": null,
            "margin": null,
            "max_height": null,
            "max_width": null,
            "min_height": null,
            "min_width": null,
            "object_fit": null,
            "object_position": null,
            "order": null,
            "overflow": null,
            "overflow_x": null,
            "overflow_y": null,
            "padding": null,
            "right": null,
            "top": null,
            "visibility": null,
            "width": null
          }
        },
        "cd3289b3420f443aa3a45cc9e847163a": {
          "model_module": "@jupyter-widgets/controls",
          "model_name": "ProgressStyleModel",
          "model_module_version": "1.5.0",
          "state": {
            "_model_module": "@jupyter-widgets/controls",
            "_model_module_version": "1.5.0",
            "_model_name": "ProgressStyleModel",
            "_view_count": null,
            "_view_module": "@jupyter-widgets/base",
            "_view_module_version": "1.2.0",
            "_view_name": "StyleView",
            "bar_color": null,
            "description_width": ""
          }
        },
        "d43a83eee1dd45d09b94794a42171e33": {
          "model_module": "@jupyter-widgets/base",
          "model_name": "LayoutModel",
          "model_module_version": "1.2.0",
          "state": {
            "_model_module": "@jupyter-widgets/base",
            "_model_module_version": "1.2.0",
            "_model_name": "LayoutModel",
            "_view_count": null,
            "_view_module": "@jupyter-widgets/base",
            "_view_module_version": "1.2.0",
            "_view_name": "LayoutView",
            "align_content": null,
            "align_items": null,
            "align_self": null,
            "border": null,
            "bottom": null,
            "display": null,
            "flex": null,
            "flex_flow": null,
            "grid_area": null,
            "grid_auto_columns": null,
            "grid_auto_flow": null,
            "grid_auto_rows": null,
            "grid_column": null,
            "grid_gap": null,
            "grid_row": null,
            "grid_template_areas": null,
            "grid_template_columns": null,
            "grid_template_rows": null,
            "height": null,
            "justify_content": null,
            "justify_items": null,
            "left": null,
            "margin": null,
            "max_height": null,
            "max_width": null,
            "min_height": null,
            "min_width": null,
            "object_fit": null,
            "object_position": null,
            "order": null,
            "overflow": null,
            "overflow_x": null,
            "overflow_y": null,
            "padding": null,
            "right": null,
            "top": null,
            "visibility": null,
            "width": null
          }
        },
        "ccae660b77d24896bf4a6376d88f166c": {
          "model_module": "@jupyter-widgets/controls",
          "model_name": "DescriptionStyleModel",
          "model_module_version": "1.5.0",
          "state": {
            "_model_module": "@jupyter-widgets/controls",
            "_model_module_version": "1.5.0",
            "_model_name": "DescriptionStyleModel",
            "_view_count": null,
            "_view_module": "@jupyter-widgets/base",
            "_view_module_version": "1.2.0",
            "_view_name": "StyleView",
            "description_width": ""
          }
        },
        "0561ed99e32443aa9a332d2533c80e7a": {
          "model_module": "@jupyter-widgets/controls",
          "model_name": "HBoxModel",
          "model_module_version": "1.5.0",
          "state": {
            "_dom_classes": [],
            "_model_module": "@jupyter-widgets/controls",
            "_model_module_version": "1.5.0",
            "_model_name": "HBoxModel",
            "_view_count": null,
            "_view_module": "@jupyter-widgets/controls",
            "_view_module_version": "1.5.0",
            "_view_name": "HBoxView",
            "box_style": "",
            "children": [
              "IPY_MODEL_e4734d05dbae48f89480f1b5bd15b559",
              "IPY_MODEL_82126d0982d44b068bb9e627ea64d80e",
              "IPY_MODEL_e2ca8df766874057ad873cdf457f5f40"
            ],
            "layout": "IPY_MODEL_64a89be4c9eb4691934e543920109e0b"
          }
        },
        "e4734d05dbae48f89480f1b5bd15b559": {
          "model_module": "@jupyter-widgets/controls",
          "model_name": "HTMLModel",
          "model_module_version": "1.5.0",
          "state": {
            "_dom_classes": [],
            "_model_module": "@jupyter-widgets/controls",
            "_model_module_version": "1.5.0",
            "_model_name": "HTMLModel",
            "_view_count": null,
            "_view_module": "@jupyter-widgets/controls",
            "_view_module_version": "1.5.0",
            "_view_name": "HTMLView",
            "description": "",
            "description_tooltip": null,
            "layout": "IPY_MODEL_39fb15ccd63945b38d38eb94b5187839",
            "placeholder": "​",
            "style": "IPY_MODEL_a4aa385a3a1a40a4a388cfa71142f196",
            "value": "  7%"
          }
        },
        "82126d0982d44b068bb9e627ea64d80e": {
          "model_module": "@jupyter-widgets/controls",
          "model_name": "FloatProgressModel",
          "model_module_version": "1.5.0",
          "state": {
            "_dom_classes": [],
            "_model_module": "@jupyter-widgets/controls",
            "_model_module_version": "1.5.0",
            "_model_name": "FloatProgressModel",
            "_view_count": null,
            "_view_module": "@jupyter-widgets/controls",
            "_view_module_version": "1.5.0",
            "_view_name": "ProgressView",
            "bar_style": "",
            "description": "",
            "description_tooltip": null,
            "layout": "IPY_MODEL_3ba582337a154fe0bda4c8607687b2f2",
            "max": 1875,
            "min": 0,
            "orientation": "horizontal",
            "style": "IPY_MODEL_40a3626df0b9486a93f0ddee22a22f4f",
            "value": 128
          }
        },
        "e2ca8df766874057ad873cdf457f5f40": {
          "model_module": "@jupyter-widgets/controls",
          "model_name": "HTMLModel",
          "model_module_version": "1.5.0",
          "state": {
            "_dom_classes": [],
            "_model_module": "@jupyter-widgets/controls",
            "_model_module_version": "1.5.0",
            "_model_name": "HTMLModel",
            "_view_count": null,
            "_view_module": "@jupyter-widgets/controls",
            "_view_module_version": "1.5.0",
            "_view_name": "HTMLView",
            "description": "",
            "description_tooltip": null,
            "layout": "IPY_MODEL_93315394e2b94c6d94c87bcb5c719712",
            "placeholder": "​",
            "style": "IPY_MODEL_6799a76681934b4c9f48ce106b777d9a",
            "value": " 128/1875 [00:00&lt;00:10, 162.41it/s]"
          }
        },
        "64a89be4c9eb4691934e543920109e0b": {
          "model_module": "@jupyter-widgets/base",
          "model_name": "LayoutModel",
          "model_module_version": "1.2.0",
          "state": {
            "_model_module": "@jupyter-widgets/base",
            "_model_module_version": "1.2.0",
            "_model_name": "LayoutModel",
            "_view_count": null,
            "_view_module": "@jupyter-widgets/base",
            "_view_module_version": "1.2.0",
            "_view_name": "LayoutView",
            "align_content": null,
            "align_items": null,
            "align_self": null,
            "border": null,
            "bottom": null,
            "display": null,
            "flex": null,
            "flex_flow": null,
            "grid_area": null,
            "grid_auto_columns": null,
            "grid_auto_flow": null,
            "grid_auto_rows": null,
            "grid_column": null,
            "grid_gap": null,
            "grid_row": null,
            "grid_template_areas": null,
            "grid_template_columns": null,
            "grid_template_rows": null,
            "height": null,
            "justify_content": null,
            "justify_items": null,
            "left": null,
            "margin": null,
            "max_height": null,
            "max_width": null,
            "min_height": null,
            "min_width": null,
            "object_fit": null,
            "object_position": null,
            "order": null,
            "overflow": null,
            "overflow_x": null,
            "overflow_y": null,
            "padding": null,
            "right": null,
            "top": null,
            "visibility": null,
            "width": null
          }
        },
        "39fb15ccd63945b38d38eb94b5187839": {
          "model_module": "@jupyter-widgets/base",
          "model_name": "LayoutModel",
          "model_module_version": "1.2.0",
          "state": {
            "_model_module": "@jupyter-widgets/base",
            "_model_module_version": "1.2.0",
            "_model_name": "LayoutModel",
            "_view_count": null,
            "_view_module": "@jupyter-widgets/base",
            "_view_module_version": "1.2.0",
            "_view_name": "LayoutView",
            "align_content": null,
            "align_items": null,
            "align_self": null,
            "border": null,
            "bottom": null,
            "display": null,
            "flex": null,
            "flex_flow": null,
            "grid_area": null,
            "grid_auto_columns": null,
            "grid_auto_flow": null,
            "grid_auto_rows": null,
            "grid_column": null,
            "grid_gap": null,
            "grid_row": null,
            "grid_template_areas": null,
            "grid_template_columns": null,
            "grid_template_rows": null,
            "height": null,
            "justify_content": null,
            "justify_items": null,
            "left": null,
            "margin": null,
            "max_height": null,
            "max_width": null,
            "min_height": null,
            "min_width": null,
            "object_fit": null,
            "object_position": null,
            "order": null,
            "overflow": null,
            "overflow_x": null,
            "overflow_y": null,
            "padding": null,
            "right": null,
            "top": null,
            "visibility": null,
            "width": null
          }
        },
        "a4aa385a3a1a40a4a388cfa71142f196": {
          "model_module": "@jupyter-widgets/controls",
          "model_name": "DescriptionStyleModel",
          "model_module_version": "1.5.0",
          "state": {
            "_model_module": "@jupyter-widgets/controls",
            "_model_module_version": "1.5.0",
            "_model_name": "DescriptionStyleModel",
            "_view_count": null,
            "_view_module": "@jupyter-widgets/base",
            "_view_module_version": "1.2.0",
            "_view_name": "StyleView",
            "description_width": ""
          }
        },
        "3ba582337a154fe0bda4c8607687b2f2": {
          "model_module": "@jupyter-widgets/base",
          "model_name": "LayoutModel",
          "model_module_version": "1.2.0",
          "state": {
            "_model_module": "@jupyter-widgets/base",
            "_model_module_version": "1.2.0",
            "_model_name": "LayoutModel",
            "_view_count": null,
            "_view_module": "@jupyter-widgets/base",
            "_view_module_version": "1.2.0",
            "_view_name": "LayoutView",
            "align_content": null,
            "align_items": null,
            "align_self": null,
            "border": null,
            "bottom": null,
            "display": null,
            "flex": null,
            "flex_flow": null,
            "grid_area": null,
            "grid_auto_columns": null,
            "grid_auto_flow": null,
            "grid_auto_rows": null,
            "grid_column": null,
            "grid_gap": null,
            "grid_row": null,
            "grid_template_areas": null,
            "grid_template_columns": null,
            "grid_template_rows": null,
            "height": null,
            "justify_content": null,
            "justify_items": null,
            "left": null,
            "margin": null,
            "max_height": null,
            "max_width": null,
            "min_height": null,
            "min_width": null,
            "object_fit": null,
            "object_position": null,
            "order": null,
            "overflow": null,
            "overflow_x": null,
            "overflow_y": null,
            "padding": null,
            "right": null,
            "top": null,
            "visibility": null,
            "width": null
          }
        },
        "40a3626df0b9486a93f0ddee22a22f4f": {
          "model_module": "@jupyter-widgets/controls",
          "model_name": "ProgressStyleModel",
          "model_module_version": "1.5.0",
          "state": {
            "_model_module": "@jupyter-widgets/controls",
            "_model_module_version": "1.5.0",
            "_model_name": "ProgressStyleModel",
            "_view_count": null,
            "_view_module": "@jupyter-widgets/base",
            "_view_module_version": "1.2.0",
            "_view_name": "StyleView",
            "bar_color": null,
            "description_width": ""
          }
        },
        "93315394e2b94c6d94c87bcb5c719712": {
          "model_module": "@jupyter-widgets/base",
          "model_name": "LayoutModel",
          "model_module_version": "1.2.0",
          "state": {
            "_model_module": "@jupyter-widgets/base",
            "_model_module_version": "1.2.0",
            "_model_name": "LayoutModel",
            "_view_count": null,
            "_view_module": "@jupyter-widgets/base",
            "_view_module_version": "1.2.0",
            "_view_name": "LayoutView",
            "align_content": null,
            "align_items": null,
            "align_self": null,
            "border": null,
            "bottom": null,
            "display": null,
            "flex": null,
            "flex_flow": null,
            "grid_area": null,
            "grid_auto_columns": null,
            "grid_auto_flow": null,
            "grid_auto_rows": null,
            "grid_column": null,
            "grid_gap": null,
            "grid_row": null,
            "grid_template_areas": null,
            "grid_template_columns": null,
            "grid_template_rows": null,
            "height": null,
            "justify_content": null,
            "justify_items": null,
            "left": null,
            "margin": null,
            "max_height": null,
            "max_width": null,
            "min_height": null,
            "min_width": null,
            "object_fit": null,
            "object_position": null,
            "order": null,
            "overflow": null,
            "overflow_x": null,
            "overflow_y": null,
            "padding": null,
            "right": null,
            "top": null,
            "visibility": null,
            "width": null
          }
        },
        "6799a76681934b4c9f48ce106b777d9a": {
          "model_module": "@jupyter-widgets/controls",
          "model_name": "DescriptionStyleModel",
          "model_module_version": "1.5.0",
          "state": {
            "_model_module": "@jupyter-widgets/controls",
            "_model_module_version": "1.5.0",
            "_model_name": "DescriptionStyleModel",
            "_view_count": null,
            "_view_module": "@jupyter-widgets/base",
            "_view_module_version": "1.2.0",
            "_view_name": "StyleView",
            "description_width": ""
          }
        }
      }
    }
  },
  "nbformat": 4,
  "nbformat_minor": 0
}